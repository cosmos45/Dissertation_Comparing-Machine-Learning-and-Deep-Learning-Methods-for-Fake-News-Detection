{
 "cells": [
  {
   "cell_type": "code",
   "execution_count": 1,
   "metadata": {
    "colab": {
     "base_uri": "https://localhost:8080/"
    },
    "id": "WwLuh23TUenC",
    "outputId": "1003127a-8a5c-4cbb-cc45-2d04a96b64a7"
   },
   "outputs": [
    {
     "name": "stdout",
     "output_type": "stream",
     "text": [
      "Requirement already satisfied: tensorflow in c:\\python310\\lib\\site-packages (2.9.1)\n",
      "Requirement already satisfied: tensorflow-io-gcs-filesystem>=0.23.1 in c:\\python310\\lib\\site-packages (from tensorflow) (0.26.0)\n",
      "Requirement already satisfied: wrapt>=1.11.0 in c:\\python310\\lib\\site-packages (from tensorflow) (1.14.1)\n",
      "Requirement already satisfied: termcolor>=1.1.0 in c:\\python310\\lib\\site-packages (from tensorflow) (1.1.0)\n",
      "Requirement already satisfied: tensorboard<2.10,>=2.9 in c:\\python310\\lib\\site-packages (from tensorflow) (2.9.1)\n",
      "Requirement already satisfied: tensorflow-estimator<2.10.0,>=2.9.0rc0 in c:\\python310\\lib\\site-packages (from tensorflow) (2.9.0)\n",
      "Requirement already satisfied: numpy>=1.20 in c:\\python310\\lib\\site-packages (from tensorflow) (1.23.1)\n",
      "Requirement already satisfied: protobuf<3.20,>=3.9.2 in c:\\python310\\lib\\site-packages (from tensorflow) (3.19.4)\n",
      "Requirement already satisfied: flatbuffers<2,>=1.12 in c:\\python310\\lib\\site-packages (from tensorflow) (1.12)\n",
      "Requirement already satisfied: six>=1.12.0 in c:\\python310\\lib\\site-packages (from tensorflow) (1.16.0)\n",
      "Requirement already satisfied: setuptools in c:\\python310\\lib\\site-packages (from tensorflow) (58.1.0)\n",
      "Requirement already satisfied: h5py>=2.9.0 in c:\\python310\\lib\\site-packages (from tensorflow) (3.7.0)\n",
      "Requirement already satisfied: grpcio<2.0,>=1.24.3 in c:\\python310\\lib\\site-packages (from tensorflow) (1.47.0)\n",
      "Requirement already satisfied: packaging in c:\\python310\\lib\\site-packages (from tensorflow) (21.3)\n",
      "Requirement already satisfied: gast<=0.4.0,>=0.2.1 in c:\\python310\\lib\\site-packages (from tensorflow) (0.4.0)\n",
      "Requirement already satisfied: google-pasta>=0.1.1 in c:\\python310\\lib\\site-packages (from tensorflow) (0.2.0)\n",
      "Requirement already satisfied: keras-preprocessing>=1.1.1 in c:\\python310\\lib\\site-packages (from tensorflow) (1.1.2)\n",
      "Requirement already satisfied: libclang>=13.0.0 in c:\\python310\\lib\\site-packages (from tensorflow) (14.0.1)\n",
      "Requirement already satisfied: opt-einsum>=2.3.2 in c:\\python310\\lib\\site-packages (from tensorflow) (3.3.0)\n",
      "Requirement already satisfied: absl-py>=1.0.0 in c:\\python310\\lib\\site-packages (from tensorflow) (1.1.0)\n",
      "Requirement already satisfied: typing-extensions>=3.6.6 in c:\\python310\\lib\\site-packages (from tensorflow) (4.3.0)\n",
      "Requirement already satisfied: astunparse>=1.6.0 in c:\\python310\\lib\\site-packages (from tensorflow) (1.6.3)\n",
      "Requirement already satisfied: keras<2.10.0,>=2.9.0rc0 in c:\\python310\\lib\\site-packages (from tensorflow) (2.9.0)\n",
      "Requirement already satisfied: wheel<1.0,>=0.23.0 in c:\\python310\\lib\\site-packages (from astunparse>=1.6.0->tensorflow) (0.37.1)\n",
      "Requirement already satisfied: markdown>=2.6.8 in c:\\python310\\lib\\site-packages (from tensorboard<2.10,>=2.9->tensorflow) (3.3.7)\n",
      "Requirement already satisfied: werkzeug>=1.0.1 in c:\\python310\\lib\\site-packages (from tensorboard<2.10,>=2.9->tensorflow) (2.1.2)\n",
      "Requirement already satisfied: tensorboard-plugin-wit>=1.6.0 in c:\\python310\\lib\\site-packages (from tensorboard<2.10,>=2.9->tensorflow) (1.8.1)\n",
      "Requirement already satisfied: requests<3,>=2.21.0 in c:\\python310\\lib\\site-packages (from tensorboard<2.10,>=2.9->tensorflow) (2.28.1)\n",
      "Requirement already satisfied: tensorboard-data-server<0.7.0,>=0.6.0 in c:\\python310\\lib\\site-packages (from tensorboard<2.10,>=2.9->tensorflow) (0.6.1)\n",
      "Requirement already satisfied: google-auth<3,>=1.6.3 in c:\\python310\\lib\\site-packages (from tensorboard<2.10,>=2.9->tensorflow) (2.9.0)\n",
      "Requirement already satisfied: google-auth-oauthlib<0.5,>=0.4.1 in c:\\python310\\lib\\site-packages (from tensorboard<2.10,>=2.9->tensorflow) (0.4.6)\n",
      "Requirement already satisfied: pyparsing!=3.0.5,>=2.0.2 in c:\\python310\\lib\\site-packages (from packaging->tensorflow) (3.0.9)\n",
      "Requirement already satisfied: rsa<5,>=3.1.4 in c:\\python310\\lib\\site-packages (from google-auth<3,>=1.6.3->tensorboard<2.10,>=2.9->tensorflow) (4.8)\n",
      "Requirement already satisfied: pyasn1-modules>=0.2.1 in c:\\python310\\lib\\site-packages (from google-auth<3,>=1.6.3->tensorboard<2.10,>=2.9->tensorflow) (0.2.8)\n",
      "Requirement already satisfied: cachetools<6.0,>=2.0.0 in c:\\python310\\lib\\site-packages (from google-auth<3,>=1.6.3->tensorboard<2.10,>=2.9->tensorflow) (5.2.0)\n",
      "Requirement already satisfied: requests-oauthlib>=0.7.0 in c:\\python310\\lib\\site-packages (from google-auth-oauthlib<0.5,>=0.4.1->tensorboard<2.10,>=2.9->tensorflow) (1.3.1)\n",
      "Requirement already satisfied: certifi>=2017.4.17 in c:\\python310\\lib\\site-packages (from requests<3,>=2.21.0->tensorboard<2.10,>=2.9->tensorflow) (2022.6.15)\n",
      "Requirement already satisfied: charset-normalizer<3,>=2 in c:\\python310\\lib\\site-packages (from requests<3,>=2.21.0->tensorboard<2.10,>=2.9->tensorflow) (2.1.0)\n",
      "Requirement already satisfied: idna<4,>=2.5 in c:\\python310\\lib\\site-packages (from requests<3,>=2.21.0->tensorboard<2.10,>=2.9->tensorflow) (3.3)\n",
      "Requirement already satisfied: urllib3<1.27,>=1.21.1 in c:\\python310\\lib\\site-packages (from requests<3,>=2.21.0->tensorboard<2.10,>=2.9->tensorflow) (1.26.10)\n",
      "Requirement already satisfied: pyasn1<0.5.0,>=0.4.6 in c:\\python310\\lib\\site-packages (from pyasn1-modules>=0.2.1->google-auth<3,>=1.6.3->tensorboard<2.10,>=2.9->tensorflow) (0.4.8)\n",
      "Requirement already satisfied: oauthlib>=3.0.0 in c:\\python310\\lib\\site-packages (from requests-oauthlib>=0.7.0->google-auth-oauthlib<0.5,>=0.4.1->tensorboard<2.10,>=2.9->tensorflow) (3.2.0)\n"
     ]
    },
    {
     "name": "stderr",
     "output_type": "stream",
     "text": [
      "WARNING: You are using pip version 22.0.4; however, version 22.2.2 is available.\n",
      "You should consider upgrading via the 'C:\\Python310\\python.exe -m pip install --upgrade pip' command.\n"
     ]
    }
   ],
   "source": [
    "#install tenserflow\n",
    "!pip install --upgrade tensorflow"
   ]
  },
  {
   "cell_type": "code",
   "execution_count": 2,
   "metadata": {
    "colab": {
     "base_uri": "https://localhost:8080/",
     "height": 1000
    },
    "id": "ez4O-4fDUeql",
    "outputId": "50ea8c8c-8b69-4d73-d801-56dd69e4351c"
   },
   "outputs": [
    {
     "name": "stdout",
     "output_type": "stream",
     "text": [
      "Requirement already satisfied: plotly in c:\\python310\\lib\\site-packages (5.9.0)\n",
      "Requirement already satisfied: tenacity>=6.2.0 in c:\\python310\\lib\\site-packages (from plotly) (8.0.1)\n"
     ]
    },
    {
     "name": "stderr",
     "output_type": "stream",
     "text": [
      "WARNING: You are using pip version 22.0.4; however, version 22.2.2 is available.\n",
      "You should consider upgrading via the 'C:\\Python310\\python.exe -m pip install --upgrade pip' command.\n"
     ]
    },
    {
     "name": "stdout",
     "output_type": "stream",
     "text": [
      "Requirement already satisfied: pandas in c:\\python310\\lib\\site-packages (1.4.3)\n",
      "Requirement already satisfied: numpy>=1.21.0 in c:\\python310\\lib\\site-packages (from pandas) (1.23.1)\n",
      "Requirement already satisfied: pytz>=2020.1 in c:\\python310\\lib\\site-packages (from pandas) (2022.2.1)\n",
      "Requirement already satisfied: python-dateutil>=2.8.1 in c:\\python310\\lib\\site-packages (from pandas) (2.8.2)\n",
      "Requirement already satisfied: six>=1.5 in c:\\python310\\lib\\site-packages (from python-dateutil>=2.8.1->pandas) (1.16.0)\n"
     ]
    },
    {
     "name": "stderr",
     "output_type": "stream",
     "text": [
      "WARNING: You are using pip version 22.0.4; however, version 22.2.2 is available.\n",
      "You should consider upgrading via the 'C:\\Python310\\python.exe -m pip install --upgrade pip' command.\n"
     ]
    },
    {
     "name": "stdout",
     "output_type": "stream",
     "text": [
      "Requirement already satisfied: nbformat in c:\\python310\\lib\\site-packages (5.4.0)\n",
      "Requirement already satisfied: jupyter-core in c:\\python310\\lib\\site-packages (from nbformat) (4.11.1)\n",
      "Requirement already satisfied: fastjsonschema in c:\\python310\\lib\\site-packages (from nbformat) (2.15.3)\n",
      "Requirement already satisfied: traitlets>=5.1 in c:\\python310\\lib\\site-packages (from nbformat) (5.3.0)\n",
      "Requirement already satisfied: jsonschema>=2.6 in c:\\python310\\lib\\site-packages (from nbformat) (4.7.2)\n",
      "Requirement already satisfied: pyrsistent!=0.17.0,!=0.17.1,!=0.17.2,>=0.14.0 in c:\\python310\\lib\\site-packages (from jsonschema>=2.6->nbformat) (0.18.1)\n",
      "Requirement already satisfied: attrs>=17.4.0 in c:\\python310\\lib\\site-packages (from jsonschema>=2.6->nbformat) (21.4.0)\n",
      "Requirement already satisfied: pywin32>=1.0 in c:\\python310\\lib\\site-packages (from jupyter-core->nbformat) (304)\n"
     ]
    },
    {
     "name": "stderr",
     "output_type": "stream",
     "text": [
      "WARNING: You are using pip version 22.0.4; however, version 22.2.2 is available.\n",
      "You should consider upgrading via the 'C:\\Python310\\python.exe -m pip install --upgrade pip' command.\n"
     ]
    },
    {
     "name": "stdout",
     "output_type": "stream",
     "text": [
      "Requirement already satisfied: nltk in c:\\python310\\lib\\site-packages (3.7)\n",
      "Requirement already satisfied: joblib in c:\\python310\\lib\\site-packages (from nltk) (1.1.0)\n",
      "Requirement already satisfied: click in c:\\python310\\lib\\site-packages (from nltk) (8.1.3)\n",
      "Requirement already satisfied: tqdm in c:\\python310\\lib\\site-packages (from nltk) (4.64.0)\n",
      "Requirement already satisfied: regex>=2021.8.3 in c:\\python310\\lib\\site-packages (from nltk) (2022.7.9)\n",
      "Requirement already satisfied: colorama in c:\\python310\\lib\\site-packages (from click->nltk) (0.4.5)\n"
     ]
    },
    {
     "name": "stderr",
     "output_type": "stream",
     "text": [
      "WARNING: You are using pip version 22.0.4; however, version 22.2.2 is available.\n",
      "You should consider upgrading via the 'C:\\Python310\\python.exe -m pip install --upgrade pip' command.\n",
      "ERROR: Invalid requirement: '#'\n",
      "WARNING: You are using pip version 22.0.4; however, version 22.2.2 is available.\n",
      "You should consider upgrading via the 'C:\\Python310\\python.exe -m pip install --upgrade pip' command.\n"
     ]
    },
    {
     "name": "stdout",
     "output_type": "stream",
     "text": [
      "Requirement already satisfied: WordCloud in c:\\python310\\lib\\site-packages (1.8.2.2)\n",
      "Requirement already satisfied: matplotlib in c:\\python310\\lib\\site-packages (from WordCloud) (3.5.2)\n",
      "Requirement already satisfied: numpy>=1.6.1 in c:\\python310\\lib\\site-packages (from WordCloud) (1.23.1)\n",
      "Requirement already satisfied: pillow in c:\\python310\\lib\\site-packages (from WordCloud) (9.2.0)\n",
      "Requirement already satisfied: cycler>=0.10 in c:\\python310\\lib\\site-packages (from matplotlib->WordCloud) (0.11.0)\n",
      "Requirement already satisfied: pyparsing>=2.2.1 in c:\\python310\\lib\\site-packages (from matplotlib->WordCloud) (3.0.9)\n",
      "Requirement already satisfied: kiwisolver>=1.0.1 in c:\\python310\\lib\\site-packages (from matplotlib->WordCloud) (1.4.3)\n",
      "Requirement already satisfied: fonttools>=4.22.0 in c:\\python310\\lib\\site-packages (from matplotlib->WordCloud) (4.34.4)\n",
      "Requirement already satisfied: python-dateutil>=2.7 in c:\\python310\\lib\\site-packages (from matplotlib->WordCloud) (2.8.2)\n",
      "Requirement already satisfied: packaging>=20.0 in c:\\python310\\lib\\site-packages (from matplotlib->WordCloud) (21.3)\n",
      "Requirement already satisfied: six>=1.5 in c:\\python310\\lib\\site-packages (from python-dateutil>=2.7->matplotlib->WordCloud) (1.16.0)\n"
     ]
    },
    {
     "name": "stderr",
     "output_type": "stream",
     "text": [
      "WARNING: You are using pip version 22.0.4; however, version 22.2.2 is available.\n",
      "You should consider upgrading via the 'C:\\Python310\\python.exe -m pip install --upgrade pip' command.\n",
      "ERROR: Invalid requirement: '#'\n",
      "WARNING: You are using pip version 22.0.4; however, version 22.2.2 is available.\n",
      "You should consider upgrading via the 'C:\\Python310\\python.exe -m pip install --upgrade pip' command.\n"
     ]
    },
    {
     "name": "stdout",
     "output_type": "stream",
     "text": [
      "Requirement already satisfied: jupyterthemes in c:\\python310\\lib\\site-packages (0.20.0)\n",
      "Requirement already satisfied: matplotlib>=1.4.3 in c:\\python310\\lib\\site-packages (from jupyterthemes) (3.5.2)\n",
      "Requirement already satisfied: ipython>=5.4.1 in c:\\python310\\lib\\site-packages (from jupyterthemes) (8.4.0)\n",
      "Requirement already satisfied: lesscpy>=0.11.2 in c:\\python310\\lib\\site-packages (from jupyterthemes) (0.15.0)\n",
      "Requirement already satisfied: jupyter-core in c:\\python310\\lib\\site-packages (from jupyterthemes) (4.11.1)\n",
      "Requirement already satisfied: notebook>=5.6.0 in c:\\python310\\lib\\site-packages (from jupyterthemes) (6.4.12)\n",
      "Requirement already satisfied: prompt-toolkit!=3.0.0,!=3.0.1,<3.1.0,>=2.0.0 in c:\\python310\\lib\\site-packages (from ipython>=5.4.1->jupyterthemes) (3.0.30)\n",
      "Requirement already satisfied: decorator in c:\\python310\\lib\\site-packages (from ipython>=5.4.1->jupyterthemes) (5.1.1)\n",
      "Requirement already satisfied: pickleshare in c:\\python310\\lib\\site-packages (from ipython>=5.4.1->jupyterthemes) (0.7.5)\n",
      "Requirement already satisfied: backcall in c:\\python310\\lib\\site-packages (from ipython>=5.4.1->jupyterthemes) (0.2.0)\n",
      "Requirement already satisfied: traitlets>=5 in c:\\python310\\lib\\site-packages (from ipython>=5.4.1->jupyterthemes) (5.3.0)\n",
      "Requirement already satisfied: jedi>=0.16 in c:\\python310\\lib\\site-packages (from ipython>=5.4.1->jupyterthemes) (0.18.1)\n",
      "Requirement already satisfied: pygments>=2.4.0 in c:\\python310\\lib\\site-packages (from ipython>=5.4.1->jupyterthemes) (2.13.0)\n",
      "Requirement already satisfied: stack-data in c:\\python310\\lib\\site-packages (from ipython>=5.4.1->jupyterthemes) (0.4.0)\n",
      "Requirement already satisfied: matplotlib-inline in c:\\python310\\lib\\site-packages (from ipython>=5.4.1->jupyterthemes) (0.1.6)\n",
      "Requirement already satisfied: colorama in c:\\python310\\lib\\site-packages (from ipython>=5.4.1->jupyterthemes) (0.4.5)\n",
      "Requirement already satisfied: setuptools>=18.5 in c:\\python310\\lib\\site-packages (from ipython>=5.4.1->jupyterthemes) (58.1.0)\n",
      "Requirement already satisfied: ply in c:\\python310\\lib\\site-packages (from lesscpy>=0.11.2->jupyterthemes) (3.11)\n",
      "Requirement already satisfied: six in c:\\python310\\lib\\site-packages (from lesscpy>=0.11.2->jupyterthemes) (1.16.0)\n",
      "Requirement already satisfied: kiwisolver>=1.0.1 in c:\\python310\\lib\\site-packages (from matplotlib>=1.4.3->jupyterthemes) (1.4.3)\n",
      "Requirement already satisfied: fonttools>=4.22.0 in c:\\python310\\lib\\site-packages (from matplotlib>=1.4.3->jupyterthemes) (4.34.4)\n",
      "Requirement already satisfied: packaging>=20.0 in c:\\python310\\lib\\site-packages (from matplotlib>=1.4.3->jupyterthemes) (21.3)\n",
      "Requirement already satisfied: pyparsing>=2.2.1 in c:\\python310\\lib\\site-packages (from matplotlib>=1.4.3->jupyterthemes) (3.0.9)\n",
      "Requirement already satisfied: pillow>=6.2.0 in c:\\python310\\lib\\site-packages (from matplotlib>=1.4.3->jupyterthemes) (9.2.0)\n",
      "Requirement already satisfied: numpy>=1.17 in c:\\python310\\lib\\site-packages (from matplotlib>=1.4.3->jupyterthemes) (1.23.1)\n",
      "Requirement already satisfied: python-dateutil>=2.7 in c:\\python310\\lib\\site-packages (from matplotlib>=1.4.3->jupyterthemes) (2.8.2)\n",
      "Requirement already satisfied: cycler>=0.10 in c:\\python310\\lib\\site-packages (from matplotlib>=1.4.3->jupyterthemes) (0.11.0)\n",
      "Requirement already satisfied: jupyter-client>=5.3.4 in c:\\python310\\lib\\site-packages (from notebook>=5.6.0->jupyterthemes) (7.3.4)\n",
      "Requirement already satisfied: terminado>=0.8.3 in c:\\python310\\lib\\site-packages (from notebook>=5.6.0->jupyterthemes) (0.15.0)\n",
      "Requirement already satisfied: ipykernel in c:\\python310\\lib\\site-packages (from notebook>=5.6.0->jupyterthemes) (6.15.1)\n",
      "Requirement already satisfied: pyzmq>=17 in c:\\python310\\lib\\site-packages (from notebook>=5.6.0->jupyterthemes) (23.2.1)\n",
      "Requirement already satisfied: nbformat in c:\\python310\\lib\\site-packages (from notebook>=5.6.0->jupyterthemes) (5.4.0)\n",
      "Requirement already satisfied: nest-asyncio>=1.5 in c:\\python310\\lib\\site-packages (from notebook>=5.6.0->jupyterthemes) (1.5.5)\n",
      "Requirement already satisfied: tornado>=6.1 in c:\\python310\\lib\\site-packages (from notebook>=5.6.0->jupyterthemes) (6.2)\n",
      "Requirement already satisfied: Send2Trash>=1.8.0 in c:\\python310\\lib\\site-packages (from notebook>=5.6.0->jupyterthemes) (1.8.0)\n",
      "Requirement already satisfied: ipython-genutils in c:\\python310\\lib\\site-packages (from notebook>=5.6.0->jupyterthemes) (0.2.0)\n",
      "Requirement already satisfied: jinja2 in c:\\python310\\lib\\site-packages (from notebook>=5.6.0->jupyterthemes) (3.1.2)\n",
      "Requirement already satisfied: nbconvert>=5 in c:\\python310\\lib\\site-packages (from notebook>=5.6.0->jupyterthemes) (7.0.0)\n",
      "Requirement already satisfied: prometheus-client in c:\\python310\\lib\\site-packages (from notebook>=5.6.0->jupyterthemes) (0.14.1)\n",
      "Requirement already satisfied: argon2-cffi in c:\\python310\\lib\\site-packages (from notebook>=5.6.0->jupyterthemes) (21.3.0)\n",
      "Requirement already satisfied: pywin32>=1.0 in c:\\python310\\lib\\site-packages (from jupyter-core->jupyterthemes) (304)\n",
      "Requirement already satisfied: parso<0.9.0,>=0.8.0 in c:\\python310\\lib\\site-packages (from jedi>=0.16->ipython>=5.4.1->jupyterthemes) (0.8.3)\n",
      "Requirement already satisfied: entrypoints in c:\\python310\\lib\\site-packages (from jupyter-client>=5.3.4->notebook>=5.6.0->jupyterthemes) (0.4)\n",
      "Requirement already satisfied: jupyterlab-pygments in c:\\python310\\lib\\site-packages (from nbconvert>=5->notebook>=5.6.0->jupyterthemes) (0.2.2)\n",
      "Requirement already satisfied: mistune<3,>=2.0.3 in c:\\python310\\lib\\site-packages (from nbconvert>=5->notebook>=5.6.0->jupyterthemes) (2.0.4)\n",
      "Requirement already satisfied: markupsafe>=2.0 in c:\\python310\\lib\\site-packages (from nbconvert>=5->notebook>=5.6.0->jupyterthemes) (2.1.1)\n",
      "Requirement already satisfied: defusedxml in c:\\python310\\lib\\site-packages (from nbconvert>=5->notebook>=5.6.0->jupyterthemes) (0.7.1)\n",
      "Requirement already satisfied: beautifulsoup4 in c:\\python310\\lib\\site-packages (from nbconvert>=5->notebook>=5.6.0->jupyterthemes) (4.11.1)\n",
      "Requirement already satisfied: pandocfilters>=1.4.1 in c:\\python310\\lib\\site-packages (from nbconvert>=5->notebook>=5.6.0->jupyterthemes) (1.5.0)\n",
      "Requirement already satisfied: nbclient>=0.5.0 in c:\\python310\\lib\\site-packages (from nbconvert>=5->notebook>=5.6.0->jupyterthemes) (0.6.6)\n",
      "Requirement already satisfied: tinycss2 in c:\\python310\\lib\\site-packages (from nbconvert>=5->notebook>=5.6.0->jupyterthemes) (1.1.1)\n",
      "Requirement already satisfied: lxml in c:\\python310\\lib\\site-packages (from nbconvert>=5->notebook>=5.6.0->jupyterthemes) (4.9.1)\n",
      "Requirement already satisfied: bleach in c:\\python310\\lib\\site-packages (from nbconvert>=5->notebook>=5.6.0->jupyterthemes) (5.0.1)\n",
      "Requirement already satisfied: jsonschema>=2.6 in c:\\python310\\lib\\site-packages (from nbformat->notebook>=5.6.0->jupyterthemes) (4.7.2)\n",
      "Requirement already satisfied: fastjsonschema in c:\\python310\\lib\\site-packages (from nbformat->notebook>=5.6.0->jupyterthemes) (2.15.3)\n",
      "Requirement already satisfied: wcwidth in c:\\python310\\lib\\site-packages (from prompt-toolkit!=3.0.0,!=3.0.1,<3.1.0,>=2.0.0->ipython>=5.4.1->jupyterthemes) (0.2.5)\n",
      "Requirement already satisfied: pywinpty>=1.1.0 in c:\\python310\\lib\\site-packages (from terminado>=0.8.3->notebook>=5.6.0->jupyterthemes) (2.0.7)\n",
      "Requirement already satisfied: argon2-cffi-bindings in c:\\python310\\lib\\site-packages (from argon2-cffi->notebook>=5.6.0->jupyterthemes) (21.2.0)\n",
      "Requirement already satisfied: debugpy>=1.0 in c:\\python310\\lib\\site-packages (from ipykernel->notebook>=5.6.0->jupyterthemes) (1.6.3)\n",
      "Requirement already satisfied: psutil in c:\\python310\\lib\\site-packages (from ipykernel->notebook>=5.6.0->jupyterthemes) (5.9.1)\n",
      "Requirement already satisfied: asttokens in c:\\python310\\lib\\site-packages (from stack-data->ipython>=5.4.1->jupyterthemes) (2.0.8)\n",
      "Requirement already satisfied: pure-eval in c:\\python310\\lib\\site-packages (from stack-data->ipython>=5.4.1->jupyterthemes) (0.2.2)\n",
      "Requirement already satisfied: executing in c:\\python310\\lib\\site-packages (from stack-data->ipython>=5.4.1->jupyterthemes) (0.10.0)\n",
      "Requirement already satisfied: pyrsistent!=0.17.0,!=0.17.1,!=0.17.2,>=0.14.0 in c:\\python310\\lib\\site-packages (from jsonschema>=2.6->nbformat->notebook>=5.6.0->jupyterthemes) (0.18.1)\n",
      "Requirement already satisfied: attrs>=17.4.0 in c:\\python310\\lib\\site-packages (from jsonschema>=2.6->nbformat->notebook>=5.6.0->jupyterthemes) (21.4.0)\n",
      "Requirement already satisfied: cffi>=1.0.1 in c:\\python310\\lib\\site-packages (from argon2-cffi-bindings->argon2-cffi->notebook>=5.6.0->jupyterthemes) (1.15.1)\n",
      "Requirement already satisfied: soupsieve>1.2 in c:\\python310\\lib\\site-packages (from beautifulsoup4->nbconvert>=5->notebook>=5.6.0->jupyterthemes) (2.3.2.post1)\n",
      "Requirement already satisfied: webencodings in c:\\python310\\lib\\site-packages (from bleach->nbconvert>=5->notebook>=5.6.0->jupyterthemes) (0.5.1)\n",
      "Requirement already satisfied: pycparser in c:\\python310\\lib\\site-packages (from cffi>=1.0.1->argon2-cffi-bindings->argon2-cffi->notebook>=5.6.0->jupyterthemes) (2.21)\n"
     ]
    },
    {
     "name": "stderr",
     "output_type": "stream",
     "text": [
      "WARNING: You are using pip version 22.0.4; however, version 22.2.2 is available.\n",
      "You should consider upgrading via the 'C:\\Python310\\python.exe -m pip install --upgrade pip' command.\n"
     ]
    },
    {
     "name": "stdout",
     "output_type": "stream",
     "text": [
      "Requirement already satisfied: fsspec in c:\\python310\\lib\\site-packages (2022.7.1)\n"
     ]
    },
    {
     "name": "stderr",
     "output_type": "stream",
     "text": [
      "WARNING: You are using pip version 22.0.4; however, version 22.2.2 is available.\n",
      "You should consider upgrading via the 'C:\\Python310\\python.exe -m pip install --upgrade pip' command.\n",
      "[nltk_data] Downloading package punkt to\n",
      "[nltk_data]     C:\\Users\\zende\\AppData\\Roaming\\nltk_data...\n",
      "[nltk_data]   Package punkt is already up-to-date!\n"
     ]
    }
   ],
   "source": [
    "# Install all the required libraries and import them\n",
    "!pip install plotly\n",
    "!pip install pandas\n",
    "!pip install --upgrade nbformat\n",
    "!pip install nltk\n",
    "!pip install spacy \n",
    "!pip install WordCloud\n",
    "!pip install gensim \n",
    "!pip install jupyterthemes\n",
    "!pip install fsspec\n",
    "import nltk\n",
    "nltk.download('punkt')\n",
    "\n",
    "import tensorflow as tf\n",
    "import pandas as pd\n",
    "import numpy as np\n",
    "import matplotlib.pyplot as plt\n",
    "import seaborn as sns\n",
    "from wordcloud import WordCloud, STOPWORDS\n",
    "import nltk\n",
    "import re\n",
    "from nltk.stem import PorterStemmer, WordNetLemmatizer\n",
    "from nltk.corpus import stopwords\n",
    "from nltk.tokenize import word_tokenize, sent_tokenize\n",
    "from gensim.utils import simple_preprocess\n",
    "from gensim.parsing.preprocessing import STOPWORDS\n",
    "from tensorflow.keras.preprocessing.text import one_hot, Tokenizer\n",
    "from tensorflow.keras.preprocessing.sequence import pad_sequences\n",
    "from tensorflow.keras.models import Sequential\n",
    "from tensorflow.keras.layers import Dense, Flatten, Embedding, Input, LSTM, Conv1D, MaxPool1D, Bidirectional\n",
    "from tensorflow.keras.models import Model"
   ]
  },
  {
   "cell_type": "code",
   "execution_count": 3,
   "metadata": {},
   "outputs": [
    {
     "name": "stdout",
     "output_type": "stream",
     "text": [
      "Requirement already satisfied: sklearn in c:\\python310\\lib\\site-packages (0.0)\n",
      "Requirement already satisfied: scikit-learn in c:\\python310\\lib\\site-packages (from sklearn) (1.1.2)\n",
      "Requirement already satisfied: joblib>=1.0.0 in c:\\python310\\lib\\site-packages (from scikit-learn->sklearn) (1.1.0)\n",
      "Requirement already satisfied: numpy>=1.17.3 in c:\\python310\\lib\\site-packages (from scikit-learn->sklearn) (1.23.1)\n",
      "Requirement already satisfied: scipy>=1.3.2 in c:\\python310\\lib\\site-packages (from scikit-learn->sklearn) (1.9.0)\n",
      "Requirement already satisfied: threadpoolctl>=2.0.0 in c:\\python310\\lib\\site-packages (from scikit-learn->sklearn) (3.1.0)\n",
      "Note: you may need to restart the kernel to use updated packages.\n"
     ]
    },
    {
     "name": "stderr",
     "output_type": "stream",
     "text": [
      "WARNING: You are using pip version 22.0.4; however, version 22.2.2 is available.\n",
      "You should consider upgrading via the 'C:\\Python310\\python.exe -m pip install --upgrade pip' command.\n"
     ]
    }
   ],
   "source": [
    "pip install sklearn"
   ]
  },
  {
   "cell_type": "markdown",
   "metadata": {},
   "source": [
    "from nltk import word_tokenize"
   ]
  },
  {
   "cell_type": "code",
   "execution_count": 5,
   "metadata": {
    "colab": {
     "base_uri": "https://localhost:8080/",
     "height": 206
    },
    "id": "qDNDtV1bUetq",
    "outputId": "141e0df6-1835-419e-ee44-ab2bc2cd0d30"
   },
   "outputs": [
    {
     "data": {
      "text/plain": [
       "Unnamed: 0    72134\n",
       "title         71576\n",
       "text          72095\n",
       "label         72134\n",
       "dtype: int64"
      ]
     },
     "execution_count": 5,
     "metadata": {},
     "output_type": "execute_result"
    }
   ],
   "source": [
    "# Load the dataset\n",
    "df = pd.read_csv('C://Astle//Dissertation//WELFake_Dataset.csv')\n",
    "df.count()"
   ]
  },
  {
   "cell_type": "code",
   "execution_count": 6,
   "metadata": {},
   "outputs": [
    {
     "data": {
      "text/html": [
       "<div>\n",
       "<style scoped>\n",
       "    .dataframe tbody tr th:only-of-type {\n",
       "        vertical-align: middle;\n",
       "    }\n",
       "\n",
       "    .dataframe tbody tr th {\n",
       "        vertical-align: top;\n",
       "    }\n",
       "\n",
       "    .dataframe thead th {\n",
       "        text-align: right;\n",
       "    }\n",
       "</style>\n",
       "<table border=\"1\" class=\"dataframe\">\n",
       "  <thead>\n",
       "    <tr style=\"text-align: right;\">\n",
       "      <th></th>\n",
       "      <th>Unnamed: 0</th>\n",
       "      <th>title</th>\n",
       "      <th>text</th>\n",
       "      <th>label</th>\n",
       "    </tr>\n",
       "  </thead>\n",
       "  <tbody>\n",
       "    <tr>\n",
       "      <th>0</th>\n",
       "      <td>0</td>\n",
       "      <td>LAW ENFORCEMENT ON HIGH ALERT Following Threat...</td>\n",
       "      <td>No comment is expected from Barack Obama Membe...</td>\n",
       "      <td>1</td>\n",
       "    </tr>\n",
       "    <tr>\n",
       "      <th>1</th>\n",
       "      <td>1</td>\n",
       "      <td>NaN</td>\n",
       "      <td>Did they post their votes for Hillary already?</td>\n",
       "      <td>1</td>\n",
       "    </tr>\n",
       "    <tr>\n",
       "      <th>2</th>\n",
       "      <td>2</td>\n",
       "      <td>UNBELIEVABLE! OBAMA’S ATTORNEY GENERAL SAYS MO...</td>\n",
       "      <td>Now, most of the demonstrators gathered last ...</td>\n",
       "      <td>1</td>\n",
       "    </tr>\n",
       "    <tr>\n",
       "      <th>3</th>\n",
       "      <td>3</td>\n",
       "      <td>Bobby Jindal, raised Hindu, uses story of Chri...</td>\n",
       "      <td>A dozen politically active pastors came here f...</td>\n",
       "      <td>0</td>\n",
       "    </tr>\n",
       "    <tr>\n",
       "      <th>4</th>\n",
       "      <td>4</td>\n",
       "      <td>SATAN 2: Russia unvelis an image of its terrif...</td>\n",
       "      <td>The RS-28 Sarmat missile, dubbed Satan 2, will...</td>\n",
       "      <td>1</td>\n",
       "    </tr>\n",
       "  </tbody>\n",
       "</table>\n",
       "</div>"
      ],
      "text/plain": [
       "   Unnamed: 0                                              title  \\\n",
       "0           0  LAW ENFORCEMENT ON HIGH ALERT Following Threat...   \n",
       "1           1                                                NaN   \n",
       "2           2  UNBELIEVABLE! OBAMA’S ATTORNEY GENERAL SAYS MO...   \n",
       "3           3  Bobby Jindal, raised Hindu, uses story of Chri...   \n",
       "4           4  SATAN 2: Russia unvelis an image of its terrif...   \n",
       "\n",
       "                                                text  label  \n",
       "0  No comment is expected from Barack Obama Membe...      1  \n",
       "1     Did they post their votes for Hillary already?      1  \n",
       "2   Now, most of the demonstrators gathered last ...      1  \n",
       "3  A dozen politically active pastors came here f...      0  \n",
       "4  The RS-28 Sarmat missile, dubbed Satan 2, will...      1  "
      ]
     },
     "execution_count": 6,
     "metadata": {},
     "output_type": "execute_result"
    }
   ],
   "source": [
    "#display the top 5 rows in the dataset\n",
    "df.head(5)"
   ]
  },
  {
   "cell_type": "code",
   "execution_count": 7,
   "metadata": {},
   "outputs": [
    {
     "data": {
      "text/plain": [
       "(72134, 4)"
      ]
     },
     "execution_count": 7,
     "metadata": {},
     "output_type": "execute_result"
    }
   ],
   "source": [
    "#display the dimensions of the dataset which is in the form of csv file\n",
    "df.shape"
   ]
  },
  {
   "cell_type": "code",
   "execution_count": 8,
   "metadata": {},
   "outputs": [],
   "source": [
    "#remove the unnamed serial number column which is not required\n",
    "df = df.loc[:,  ~df.columns.str.contains('^Unnamed')]"
   ]
  },
  {
   "cell_type": "code",
   "execution_count": 9,
   "metadata": {},
   "outputs": [
    {
     "name": "stdout",
     "output_type": "stream",
     "text": [
      "label\n",
      "1    37106\n",
      "0    35028\n",
      "dtype: int64\n"
     ]
    }
   ],
   "source": [
    "#Count the number of fake and real labels in the dataset\n",
    "label_count = df.value_counts('label')\n",
    "print(label_count)"
   ]
  },
  {
   "cell_type": "code",
   "execution_count": 10,
   "metadata": {},
   "outputs": [
    {
     "name": "stdout",
     "output_type": "stream",
     "text": [
      "title    558\n",
      "text      39\n",
      "label      0\n",
      "dtype: int64\n"
     ]
    }
   ],
   "source": [
    "#print the sum of the null values present in the dataset\n",
    "print(df.isnull().sum())"
   ]
  },
  {
   "cell_type": "code",
   "execution_count": 11,
   "metadata": {},
   "outputs": [],
   "source": [
    "#drop the null values \n",
    "df = df.dropna()"
   ]
  },
  {
   "cell_type": "code",
   "execution_count": 12,
   "metadata": {},
   "outputs": [
    {
     "name": "stdout",
     "output_type": "stream",
     "text": [
      "title    0\n",
      "text     0\n",
      "label    0\n",
      "dtype: int64\n"
     ]
    }
   ],
   "source": [
    "#reconfirm the removed null values\n",
    "print(df.isnull().sum())"
   ]
  },
  {
   "cell_type": "code",
   "execution_count": 13,
   "metadata": {},
   "outputs": [
    {
     "name": "stdout",
     "output_type": "stream",
     "text": [
      "0        False\n",
      "2        False\n",
      "3        False\n",
      "4        False\n",
      "5        False\n",
      "         ...  \n",
      "72129    False\n",
      "72130    False\n",
      "72131    False\n",
      "72132    False\n",
      "72133     True\n",
      "Length: 71537, dtype: bool\n"
     ]
    }
   ],
   "source": [
    "#print the duplicate values in the dataset\n",
    "print(df.duplicated())"
   ]
  },
  {
   "cell_type": "code",
   "execution_count": 14,
   "metadata": {},
   "outputs": [
    {
     "data": {
      "text/plain": [
       "8416"
      ]
     },
     "execution_count": 14,
     "metadata": {},
     "output_type": "execute_result"
    }
   ],
   "source": [
    "#display the sum of the duplicated values in the dataset\n",
    "df.duplicated().sum()"
   ]
  },
  {
   "cell_type": "code",
   "execution_count": 15,
   "metadata": {
    "id": "2gooQwXbWHCT"
   },
   "outputs": [
    {
     "name": "stdout",
     "output_type": "stream",
     "text": [
      "False    63121\n",
      "True      8416\n",
      "dtype: int64\n"
     ]
    }
   ],
   "source": [
    "#print the number duplicated values as well as the number of non-duplicated values\n",
    "print(df.duplicated().value_counts())"
   ]
  },
  {
   "cell_type": "code",
   "execution_count": 16,
   "metadata": {},
   "outputs": [],
   "source": [
    "#remove the duplicated values present in the dataset\n",
    "df = df.drop_duplicates()"
   ]
  },
  {
   "cell_type": "code",
   "execution_count": 17,
   "metadata": {},
   "outputs": [
    {
     "data": {
      "text/plain": [
       "0"
      ]
     },
     "execution_count": 17,
     "metadata": {},
     "output_type": "execute_result"
    }
   ],
   "source": [
    "#reconfirm whether the duplicated values are removed succesfully by displaying the sum of the duplicated values\n",
    "df.duplicated().sum()"
   ]
  },
  {
   "cell_type": "code",
   "execution_count": 18,
   "metadata": {},
   "outputs": [
    {
     "data": {
      "text/plain": [
       "(63121, 3)"
      ]
     },
     "execution_count": 18,
     "metadata": {},
     "output_type": "execute_result"
    }
   ],
   "source": [
    "#Again check the dimensions of the dataset(i.e. csv file)\n",
    "df.shape"
   ]
  },
  {
   "cell_type": "code",
   "execution_count": 19,
   "metadata": {},
   "outputs": [],
   "source": [
    "import re\n",
    "import nltk\n",
    "from nltk.stem import PorterStemmer, WordNetLemmatizer\n",
    "from nltk.corpus import stopwords\n",
    "from nltk.tokenize import word_tokenize, sent_tokenize\n"
   ]
  },
  {
   "cell_type": "code",
   "execution_count": 20,
   "metadata": {},
   "outputs": [
    {
     "name": "stderr",
     "output_type": "stream",
     "text": [
      "[nltk_data] Downloading package wordnet to\n",
      "[nltk_data]     C:\\Users\\zende\\AppData\\Roaming\\nltk_data...\n"
     ]
    },
    {
     "data": {
      "text/plain": [
       "True"
      ]
     },
     "execution_count": 20,
     "metadata": {},
     "output_type": "execute_result"
    }
   ],
   "source": [
    "nltk.download('wordnet')"
   ]
  },
  {
   "cell_type": "code",
   "execution_count": 21,
   "metadata": {},
   "outputs": [
    {
     "name": "stderr",
     "output_type": "stream",
     "text": [
      "[nltk_data] Downloading package omw-1.4 to\n",
      "[nltk_data]     C:\\Users\\zende\\AppData\\Roaming\\nltk_data...\n"
     ]
    },
    {
     "data": {
      "text/plain": [
       "True"
      ]
     },
     "execution_count": 21,
     "metadata": {},
     "output_type": "execute_result"
    }
   ],
   "source": [
    "nltk.download('omw-1.4')"
   ]
  },
  {
   "cell_type": "code",
   "execution_count": 22,
   "metadata": {},
   "outputs": [],
   "source": [
    "#Remove punctuations\n",
    "from gensim.parsing.preprocessing import STOPWORDS\n",
    "from tensorflow.keras.preprocessing.text import one_hot, Tokenizer\n",
    "import string as st"
   ]
  },
  {
   "cell_type": "code",
   "execution_count": 23,
   "metadata": {},
   "outputs": [],
   "source": [
    "def remove_punct(text):\n",
    "    return (\"\".join([ch for ch in text if ch not in st.punctuation]))"
   ]
  },
  {
   "cell_type": "code",
   "execution_count": 24,
   "metadata": {},
   "outputs": [
    {
     "data": {
      "text/html": [
       "<div>\n",
       "<style scoped>\n",
       "    .dataframe tbody tr th:only-of-type {\n",
       "        vertical-align: middle;\n",
       "    }\n",
       "\n",
       "    .dataframe tbody tr th {\n",
       "        vertical-align: top;\n",
       "    }\n",
       "\n",
       "    .dataframe thead th {\n",
       "        text-align: right;\n",
       "    }\n",
       "</style>\n",
       "<table border=\"1\" class=\"dataframe\">\n",
       "  <thead>\n",
       "    <tr style=\"text-align: right;\">\n",
       "      <th></th>\n",
       "      <th>title</th>\n",
       "      <th>text</th>\n",
       "      <th>label</th>\n",
       "      <th>removed_punc</th>\n",
       "    </tr>\n",
       "  </thead>\n",
       "  <tbody>\n",
       "    <tr>\n",
       "      <th>0</th>\n",
       "      <td>LAW ENFORCEMENT ON HIGH ALERT Following Threat...</td>\n",
       "      <td>No comment is expected from Barack Obama Membe...</td>\n",
       "      <td>1</td>\n",
       "      <td>No comment is expected from Barack Obama Membe...</td>\n",
       "    </tr>\n",
       "    <tr>\n",
       "      <th>2</th>\n",
       "      <td>UNBELIEVABLE! OBAMA’S ATTORNEY GENERAL SAYS MO...</td>\n",
       "      <td>Now, most of the demonstrators gathered last ...</td>\n",
       "      <td>1</td>\n",
       "      <td>Now most of the demonstrators gathered last n...</td>\n",
       "    </tr>\n",
       "    <tr>\n",
       "      <th>3</th>\n",
       "      <td>Bobby Jindal, raised Hindu, uses story of Chri...</td>\n",
       "      <td>A dozen politically active pastors came here f...</td>\n",
       "      <td>0</td>\n",
       "      <td>A dozen politically active pastors came here f...</td>\n",
       "    </tr>\n",
       "    <tr>\n",
       "      <th>4</th>\n",
       "      <td>SATAN 2: Russia unvelis an image of its terrif...</td>\n",
       "      <td>The RS-28 Sarmat missile, dubbed Satan 2, will...</td>\n",
       "      <td>1</td>\n",
       "      <td>The RS28 Sarmat missile dubbed Satan 2 will re...</td>\n",
       "    </tr>\n",
       "    <tr>\n",
       "      <th>5</th>\n",
       "      <td>About Time! Christian Group Sues Amazon and SP...</td>\n",
       "      <td>All we can say on this one is it s about time ...</td>\n",
       "      <td>1</td>\n",
       "      <td>All we can say on this one is it s about time ...</td>\n",
       "    </tr>\n",
       "  </tbody>\n",
       "</table>\n",
       "</div>"
      ],
      "text/plain": [
       "                                               title  \\\n",
       "0  LAW ENFORCEMENT ON HIGH ALERT Following Threat...   \n",
       "2  UNBELIEVABLE! OBAMA’S ATTORNEY GENERAL SAYS MO...   \n",
       "3  Bobby Jindal, raised Hindu, uses story of Chri...   \n",
       "4  SATAN 2: Russia unvelis an image of its terrif...   \n",
       "5  About Time! Christian Group Sues Amazon and SP...   \n",
       "\n",
       "                                                text  label  \\\n",
       "0  No comment is expected from Barack Obama Membe...      1   \n",
       "2   Now, most of the demonstrators gathered last ...      1   \n",
       "3  A dozen politically active pastors came here f...      0   \n",
       "4  The RS-28 Sarmat missile, dubbed Satan 2, will...      1   \n",
       "5  All we can say on this one is it s about time ...      1   \n",
       "\n",
       "                                        removed_punc  \n",
       "0  No comment is expected from Barack Obama Membe...  \n",
       "2   Now most of the demonstrators gathered last n...  \n",
       "3  A dozen politically active pastors came here f...  \n",
       "4  The RS28 Sarmat missile dubbed Satan 2 will re...  \n",
       "5  All we can say on this one is it s about time ...  "
      ]
     },
     "execution_count": 24,
     "metadata": {},
     "output_type": "execute_result"
    }
   ],
   "source": [
    "df['removed_punc'] = df['text'].apply(lambda x: remove_punct(x))\n",
    "df.head()"
   ]
  },
  {
   "cell_type": "code",
   "execution_count": 25,
   "metadata": {},
   "outputs": [],
   "source": [
    "def tokenize(text):\n",
    "    text = re.split('\\s+' ,text)\n",
    "    return [x.lower() for x in text]"
   ]
  },
  {
   "cell_type": "code",
   "execution_count": 26,
   "metadata": {},
   "outputs": [
    {
     "data": {
      "text/html": [
       "<div>\n",
       "<style scoped>\n",
       "    .dataframe tbody tr th:only-of-type {\n",
       "        vertical-align: middle;\n",
       "    }\n",
       "\n",
       "    .dataframe tbody tr th {\n",
       "        vertical-align: top;\n",
       "    }\n",
       "\n",
       "    .dataframe thead th {\n",
       "        text-align: right;\n",
       "    }\n",
       "</style>\n",
       "<table border=\"1\" class=\"dataframe\">\n",
       "  <thead>\n",
       "    <tr style=\"text-align: right;\">\n",
       "      <th></th>\n",
       "      <th>title</th>\n",
       "      <th>text</th>\n",
       "      <th>label</th>\n",
       "      <th>removed_punc</th>\n",
       "      <th>tokens</th>\n",
       "    </tr>\n",
       "  </thead>\n",
       "  <tbody>\n",
       "    <tr>\n",
       "      <th>0</th>\n",
       "      <td>LAW ENFORCEMENT ON HIGH ALERT Following Threat...</td>\n",
       "      <td>No comment is expected from Barack Obama Membe...</td>\n",
       "      <td>1</td>\n",
       "      <td>No comment is expected from Barack Obama Membe...</td>\n",
       "      <td>[no, comment, is, expected, from, barack, obam...</td>\n",
       "    </tr>\n",
       "    <tr>\n",
       "      <th>2</th>\n",
       "      <td>UNBELIEVABLE! OBAMA’S ATTORNEY GENERAL SAYS MO...</td>\n",
       "      <td>Now, most of the demonstrators gathered last ...</td>\n",
       "      <td>1</td>\n",
       "      <td>Now most of the demonstrators gathered last n...</td>\n",
       "      <td>[, now, most, of, the, demonstrators, gathered...</td>\n",
       "    </tr>\n",
       "    <tr>\n",
       "      <th>3</th>\n",
       "      <td>Bobby Jindal, raised Hindu, uses story of Chri...</td>\n",
       "      <td>A dozen politically active pastors came here f...</td>\n",
       "      <td>0</td>\n",
       "      <td>A dozen politically active pastors came here f...</td>\n",
       "      <td>[a, dozen, politically, active, pastors, came,...</td>\n",
       "    </tr>\n",
       "    <tr>\n",
       "      <th>4</th>\n",
       "      <td>SATAN 2: Russia unvelis an image of its terrif...</td>\n",
       "      <td>The RS-28 Sarmat missile, dubbed Satan 2, will...</td>\n",
       "      <td>1</td>\n",
       "      <td>The RS28 Sarmat missile dubbed Satan 2 will re...</td>\n",
       "      <td>[the, rs28, sarmat, missile, dubbed, satan, 2,...</td>\n",
       "    </tr>\n",
       "    <tr>\n",
       "      <th>5</th>\n",
       "      <td>About Time! Christian Group Sues Amazon and SP...</td>\n",
       "      <td>All we can say on this one is it s about time ...</td>\n",
       "      <td>1</td>\n",
       "      <td>All we can say on this one is it s about time ...</td>\n",
       "      <td>[all, we, can, say, on, this, one, is, it, s, ...</td>\n",
       "    </tr>\n",
       "  </tbody>\n",
       "</table>\n",
       "</div>"
      ],
      "text/plain": [
       "                                               title  \\\n",
       "0  LAW ENFORCEMENT ON HIGH ALERT Following Threat...   \n",
       "2  UNBELIEVABLE! OBAMA’S ATTORNEY GENERAL SAYS MO...   \n",
       "3  Bobby Jindal, raised Hindu, uses story of Chri...   \n",
       "4  SATAN 2: Russia unvelis an image of its terrif...   \n",
       "5  About Time! Christian Group Sues Amazon and SP...   \n",
       "\n",
       "                                                text  label  \\\n",
       "0  No comment is expected from Barack Obama Membe...      1   \n",
       "2   Now, most of the demonstrators gathered last ...      1   \n",
       "3  A dozen politically active pastors came here f...      0   \n",
       "4  The RS-28 Sarmat missile, dubbed Satan 2, will...      1   \n",
       "5  All we can say on this one is it s about time ...      1   \n",
       "\n",
       "                                        removed_punc  \\\n",
       "0  No comment is expected from Barack Obama Membe...   \n",
       "2   Now most of the demonstrators gathered last n...   \n",
       "3  A dozen politically active pastors came here f...   \n",
       "4  The RS28 Sarmat missile dubbed Satan 2 will re...   \n",
       "5  All we can say on this one is it s about time ...   \n",
       "\n",
       "                                              tokens  \n",
       "0  [no, comment, is, expected, from, barack, obam...  \n",
       "2  [, now, most, of, the, demonstrators, gathered...  \n",
       "3  [a, dozen, politically, active, pastors, came,...  \n",
       "4  [the, rs28, sarmat, missile, dubbed, satan, 2,...  \n",
       "5  [all, we, can, say, on, this, one, is, it, s, ...  "
      ]
     },
     "execution_count": 26,
     "metadata": {},
     "output_type": "execute_result"
    }
   ],
   "source": [
    "# Tokenize\n",
    "df['tokens'] = df['removed_punc'].apply(lambda msg : tokenize(msg))\n",
    "df.head()"
   ]
  },
  {
   "cell_type": "code",
   "execution_count": 27,
   "metadata": {},
   "outputs": [],
   "source": [
    "# Remove tokens of length less than 3\n",
    "def remove_small_words(text):\n",
    "    return [x for x in text if len(x) > 3 ]"
   ]
  },
  {
   "cell_type": "code",
   "execution_count": 28,
   "metadata": {
    "scrolled": true
   },
   "outputs": [
    {
     "data": {
      "text/html": [
       "<div>\n",
       "<style scoped>\n",
       "    .dataframe tbody tr th:only-of-type {\n",
       "        vertical-align: middle;\n",
       "    }\n",
       "\n",
       "    .dataframe tbody tr th {\n",
       "        vertical-align: top;\n",
       "    }\n",
       "\n",
       "    .dataframe thead th {\n",
       "        text-align: right;\n",
       "    }\n",
       "</style>\n",
       "<table border=\"1\" class=\"dataframe\">\n",
       "  <thead>\n",
       "    <tr style=\"text-align: right;\">\n",
       "      <th></th>\n",
       "      <th>title</th>\n",
       "      <th>text</th>\n",
       "      <th>label</th>\n",
       "      <th>removed_punc</th>\n",
       "      <th>tokens</th>\n",
       "      <th>filtered_tokens</th>\n",
       "    </tr>\n",
       "  </thead>\n",
       "  <tbody>\n",
       "    <tr>\n",
       "      <th>0</th>\n",
       "      <td>LAW ENFORCEMENT ON HIGH ALERT Following Threat...</td>\n",
       "      <td>No comment is expected from Barack Obama Membe...</td>\n",
       "      <td>1</td>\n",
       "      <td>No comment is expected from Barack Obama Membe...</td>\n",
       "      <td>[no, comment, is, expected, from, barack, obam...</td>\n",
       "      <td>[comment, expected, from, barack, obama, membe...</td>\n",
       "    </tr>\n",
       "    <tr>\n",
       "      <th>2</th>\n",
       "      <td>UNBELIEVABLE! OBAMA’S ATTORNEY GENERAL SAYS MO...</td>\n",
       "      <td>Now, most of the demonstrators gathered last ...</td>\n",
       "      <td>1</td>\n",
       "      <td>Now most of the demonstrators gathered last n...</td>\n",
       "      <td>[, now, most, of, the, demonstrators, gathered...</td>\n",
       "      <td>[most, demonstrators, gathered, last, night, w...</td>\n",
       "    </tr>\n",
       "    <tr>\n",
       "      <th>3</th>\n",
       "      <td>Bobby Jindal, raised Hindu, uses story of Chri...</td>\n",
       "      <td>A dozen politically active pastors came here f...</td>\n",
       "      <td>0</td>\n",
       "      <td>A dozen politically active pastors came here f...</td>\n",
       "      <td>[a, dozen, politically, active, pastors, came,...</td>\n",
       "      <td>[dozen, politically, active, pastors, came, he...</td>\n",
       "    </tr>\n",
       "    <tr>\n",
       "      <th>4</th>\n",
       "      <td>SATAN 2: Russia unvelis an image of its terrif...</td>\n",
       "      <td>The RS-28 Sarmat missile, dubbed Satan 2, will...</td>\n",
       "      <td>1</td>\n",
       "      <td>The RS28 Sarmat missile dubbed Satan 2 will re...</td>\n",
       "      <td>[the, rs28, sarmat, missile, dubbed, satan, 2,...</td>\n",
       "      <td>[rs28, sarmat, missile, dubbed, satan, will, r...</td>\n",
       "    </tr>\n",
       "    <tr>\n",
       "      <th>5</th>\n",
       "      <td>About Time! Christian Group Sues Amazon and SP...</td>\n",
       "      <td>All we can say on this one is it s about time ...</td>\n",
       "      <td>1</td>\n",
       "      <td>All we can say on this one is it s about time ...</td>\n",
       "      <td>[all, we, can, say, on, this, one, is, it, s, ...</td>\n",
       "      <td>[this, about, time, someone, sued, southern, p...</td>\n",
       "    </tr>\n",
       "  </tbody>\n",
       "</table>\n",
       "</div>"
      ],
      "text/plain": [
       "                                               title  \\\n",
       "0  LAW ENFORCEMENT ON HIGH ALERT Following Threat...   \n",
       "2  UNBELIEVABLE! OBAMA’S ATTORNEY GENERAL SAYS MO...   \n",
       "3  Bobby Jindal, raised Hindu, uses story of Chri...   \n",
       "4  SATAN 2: Russia unvelis an image of its terrif...   \n",
       "5  About Time! Christian Group Sues Amazon and SP...   \n",
       "\n",
       "                                                text  label  \\\n",
       "0  No comment is expected from Barack Obama Membe...      1   \n",
       "2   Now, most of the demonstrators gathered last ...      1   \n",
       "3  A dozen politically active pastors came here f...      0   \n",
       "4  The RS-28 Sarmat missile, dubbed Satan 2, will...      1   \n",
       "5  All we can say on this one is it s about time ...      1   \n",
       "\n",
       "                                        removed_punc  \\\n",
       "0  No comment is expected from Barack Obama Membe...   \n",
       "2   Now most of the demonstrators gathered last n...   \n",
       "3  A dozen politically active pastors came here f...   \n",
       "4  The RS28 Sarmat missile dubbed Satan 2 will re...   \n",
       "5  All we can say on this one is it s about time ...   \n",
       "\n",
       "                                              tokens  \\\n",
       "0  [no, comment, is, expected, from, barack, obam...   \n",
       "2  [, now, most, of, the, demonstrators, gathered...   \n",
       "3  [a, dozen, politically, active, pastors, came,...   \n",
       "4  [the, rs28, sarmat, missile, dubbed, satan, 2,...   \n",
       "5  [all, we, can, say, on, this, one, is, it, s, ...   \n",
       "\n",
       "                                     filtered_tokens  \n",
       "0  [comment, expected, from, barack, obama, membe...  \n",
       "2  [most, demonstrators, gathered, last, night, w...  \n",
       "3  [dozen, politically, active, pastors, came, he...  \n",
       "4  [rs28, sarmat, missile, dubbed, satan, will, r...  \n",
       "5  [this, about, time, someone, sued, southern, p...  "
      ]
     },
     "execution_count": 28,
     "metadata": {},
     "output_type": "execute_result"
    }
   ],
   "source": [
    "df['filtered_tokens'] = df['tokens'].apply(lambda x : remove_small_words(x))\n",
    "df.head()"
   ]
  },
  {
   "cell_type": "code",
   "execution_count": 29,
   "metadata": {},
   "outputs": [],
   "source": [
    "#Remove stopwords\n",
    "def remove_stopwords(text):\n",
    "    return [word for word in text if word not in nltk.corpus.stopwords.words('english')]"
   ]
  },
  {
   "cell_type": "code",
   "execution_count": 30,
   "metadata": {},
   "outputs": [
    {
     "data": {
      "text/html": [
       "<div>\n",
       "<style scoped>\n",
       "    .dataframe tbody tr th:only-of-type {\n",
       "        vertical-align: middle;\n",
       "    }\n",
       "\n",
       "    .dataframe tbody tr th {\n",
       "        vertical-align: top;\n",
       "    }\n",
       "\n",
       "    .dataframe thead th {\n",
       "        text-align: right;\n",
       "    }\n",
       "</style>\n",
       "<table border=\"1\" class=\"dataframe\">\n",
       "  <thead>\n",
       "    <tr style=\"text-align: right;\">\n",
       "      <th></th>\n",
       "      <th>title</th>\n",
       "      <th>text</th>\n",
       "      <th>label</th>\n",
       "      <th>removed_punc</th>\n",
       "      <th>tokens</th>\n",
       "      <th>filtered_tokens</th>\n",
       "      <th>clean_tokens</th>\n",
       "    </tr>\n",
       "  </thead>\n",
       "  <tbody>\n",
       "    <tr>\n",
       "      <th>0</th>\n",
       "      <td>LAW ENFORCEMENT ON HIGH ALERT Following Threat...</td>\n",
       "      <td>No comment is expected from Barack Obama Membe...</td>\n",
       "      <td>1</td>\n",
       "      <td>No comment is expected from Barack Obama Membe...</td>\n",
       "      <td>[no, comment, is, expected, from, barack, obam...</td>\n",
       "      <td>[comment, expected, from, barack, obama, membe...</td>\n",
       "      <td>[comment, expected, barack, obama, members, fy...</td>\n",
       "    </tr>\n",
       "    <tr>\n",
       "      <th>2</th>\n",
       "      <td>UNBELIEVABLE! OBAMA’S ATTORNEY GENERAL SAYS MO...</td>\n",
       "      <td>Now, most of the demonstrators gathered last ...</td>\n",
       "      <td>1</td>\n",
       "      <td>Now most of the demonstrators gathered last n...</td>\n",
       "      <td>[, now, most, of, the, demonstrators, gathered...</td>\n",
       "      <td>[most, demonstrators, gathered, last, night, w...</td>\n",
       "      <td>[demonstrators, gathered, last, night, exercis...</td>\n",
       "    </tr>\n",
       "    <tr>\n",
       "      <th>3</th>\n",
       "      <td>Bobby Jindal, raised Hindu, uses story of Chri...</td>\n",
       "      <td>A dozen politically active pastors came here f...</td>\n",
       "      <td>0</td>\n",
       "      <td>A dozen politically active pastors came here f...</td>\n",
       "      <td>[a, dozen, politically, active, pastors, came,...</td>\n",
       "      <td>[dozen, politically, active, pastors, came, he...</td>\n",
       "      <td>[dozen, politically, active, pastors, came, pr...</td>\n",
       "    </tr>\n",
       "    <tr>\n",
       "      <th>4</th>\n",
       "      <td>SATAN 2: Russia unvelis an image of its terrif...</td>\n",
       "      <td>The RS-28 Sarmat missile, dubbed Satan 2, will...</td>\n",
       "      <td>1</td>\n",
       "      <td>The RS28 Sarmat missile dubbed Satan 2 will re...</td>\n",
       "      <td>[the, rs28, sarmat, missile, dubbed, satan, 2,...</td>\n",
       "      <td>[rs28, sarmat, missile, dubbed, satan, will, r...</td>\n",
       "      <td>[rs28, sarmat, missile, dubbed, satan, replace...</td>\n",
       "    </tr>\n",
       "    <tr>\n",
       "      <th>5</th>\n",
       "      <td>About Time! Christian Group Sues Amazon and SP...</td>\n",
       "      <td>All we can say on this one is it s about time ...</td>\n",
       "      <td>1</td>\n",
       "      <td>All we can say on this one is it s about time ...</td>\n",
       "      <td>[all, we, can, say, on, this, one, is, it, s, ...</td>\n",
       "      <td>[this, about, time, someone, sued, southern, p...</td>\n",
       "      <td>[time, someone, sued, southern, poverty, cente...</td>\n",
       "    </tr>\n",
       "  </tbody>\n",
       "</table>\n",
       "</div>"
      ],
      "text/plain": [
       "                                               title  \\\n",
       "0  LAW ENFORCEMENT ON HIGH ALERT Following Threat...   \n",
       "2  UNBELIEVABLE! OBAMA’S ATTORNEY GENERAL SAYS MO...   \n",
       "3  Bobby Jindal, raised Hindu, uses story of Chri...   \n",
       "4  SATAN 2: Russia unvelis an image of its terrif...   \n",
       "5  About Time! Christian Group Sues Amazon and SP...   \n",
       "\n",
       "                                                text  label  \\\n",
       "0  No comment is expected from Barack Obama Membe...      1   \n",
       "2   Now, most of the demonstrators gathered last ...      1   \n",
       "3  A dozen politically active pastors came here f...      0   \n",
       "4  The RS-28 Sarmat missile, dubbed Satan 2, will...      1   \n",
       "5  All we can say on this one is it s about time ...      1   \n",
       "\n",
       "                                        removed_punc  \\\n",
       "0  No comment is expected from Barack Obama Membe...   \n",
       "2   Now most of the demonstrators gathered last n...   \n",
       "3  A dozen politically active pastors came here f...   \n",
       "4  The RS28 Sarmat missile dubbed Satan 2 will re...   \n",
       "5  All we can say on this one is it s about time ...   \n",
       "\n",
       "                                              tokens  \\\n",
       "0  [no, comment, is, expected, from, barack, obam...   \n",
       "2  [, now, most, of, the, demonstrators, gathered...   \n",
       "3  [a, dozen, politically, active, pastors, came,...   \n",
       "4  [the, rs28, sarmat, missile, dubbed, satan, 2,...   \n",
       "5  [all, we, can, say, on, this, one, is, it, s, ...   \n",
       "\n",
       "                                     filtered_tokens  \\\n",
       "0  [comment, expected, from, barack, obama, membe...   \n",
       "2  [most, demonstrators, gathered, last, night, w...   \n",
       "3  [dozen, politically, active, pastors, came, he...   \n",
       "4  [rs28, sarmat, missile, dubbed, satan, will, r...   \n",
       "5  [this, about, time, someone, sued, southern, p...   \n",
       "\n",
       "                                        clean_tokens  \n",
       "0  [comment, expected, barack, obama, members, fy...  \n",
       "2  [demonstrators, gathered, last, night, exercis...  \n",
       "3  [dozen, politically, active, pastors, came, pr...  \n",
       "4  [rs28, sarmat, missile, dubbed, satan, replace...  \n",
       "5  [time, someone, sued, southern, poverty, cente...  "
      ]
     },
     "execution_count": 30,
     "metadata": {},
     "output_type": "execute_result"
    }
   ],
   "source": [
    "df['clean_tokens'] = df['filtered_tokens'].apply(lambda x : remove_stopwords(x))\n",
    "df.head()"
   ]
  },
  {
   "cell_type": "code",
   "execution_count": 31,
   "metadata": {},
   "outputs": [],
   "source": [
    "# Apply lemmatization on tokens\n",
    "def lemmatize(text):\n",
    "    word_net = WordNetLemmatizer()\n",
    "    return [word_net.lemmatize(word) for word in text]"
   ]
  },
  {
   "cell_type": "code",
   "execution_count": 32,
   "metadata": {},
   "outputs": [
    {
     "data": {
      "text/html": [
       "<div>\n",
       "<style scoped>\n",
       "    .dataframe tbody tr th:only-of-type {\n",
       "        vertical-align: middle;\n",
       "    }\n",
       "\n",
       "    .dataframe tbody tr th {\n",
       "        vertical-align: top;\n",
       "    }\n",
       "\n",
       "    .dataframe thead th {\n",
       "        text-align: right;\n",
       "    }\n",
       "</style>\n",
       "<table border=\"1\" class=\"dataframe\">\n",
       "  <thead>\n",
       "    <tr style=\"text-align: right;\">\n",
       "      <th></th>\n",
       "      <th>title</th>\n",
       "      <th>text</th>\n",
       "      <th>label</th>\n",
       "      <th>removed_punc</th>\n",
       "      <th>tokens</th>\n",
       "      <th>filtered_tokens</th>\n",
       "      <th>clean_tokens</th>\n",
       "      <th>lemma_words</th>\n",
       "    </tr>\n",
       "  </thead>\n",
       "  <tbody>\n",
       "    <tr>\n",
       "      <th>0</th>\n",
       "      <td>LAW ENFORCEMENT ON HIGH ALERT Following Threat...</td>\n",
       "      <td>No comment is expected from Barack Obama Membe...</td>\n",
       "      <td>1</td>\n",
       "      <td>No comment is expected from Barack Obama Membe...</td>\n",
       "      <td>[no, comment, is, expected, from, barack, obam...</td>\n",
       "      <td>[comment, expected, from, barack, obama, membe...</td>\n",
       "      <td>[comment, expected, barack, obama, members, fy...</td>\n",
       "      <td>[comment, expected, barack, obama, member, fyf...</td>\n",
       "    </tr>\n",
       "    <tr>\n",
       "      <th>2</th>\n",
       "      <td>UNBELIEVABLE! OBAMA’S ATTORNEY GENERAL SAYS MO...</td>\n",
       "      <td>Now, most of the demonstrators gathered last ...</td>\n",
       "      <td>1</td>\n",
       "      <td>Now most of the demonstrators gathered last n...</td>\n",
       "      <td>[, now, most, of, the, demonstrators, gathered...</td>\n",
       "      <td>[most, demonstrators, gathered, last, night, w...</td>\n",
       "      <td>[demonstrators, gathered, last, night, exercis...</td>\n",
       "      <td>[demonstrator, gathered, last, night, exercisi...</td>\n",
       "    </tr>\n",
       "    <tr>\n",
       "      <th>3</th>\n",
       "      <td>Bobby Jindal, raised Hindu, uses story of Chri...</td>\n",
       "      <td>A dozen politically active pastors came here f...</td>\n",
       "      <td>0</td>\n",
       "      <td>A dozen politically active pastors came here f...</td>\n",
       "      <td>[a, dozen, politically, active, pastors, came,...</td>\n",
       "      <td>[dozen, politically, active, pastors, came, he...</td>\n",
       "      <td>[dozen, politically, active, pastors, came, pr...</td>\n",
       "      <td>[dozen, politically, active, pastor, came, pri...</td>\n",
       "    </tr>\n",
       "    <tr>\n",
       "      <th>4</th>\n",
       "      <td>SATAN 2: Russia unvelis an image of its terrif...</td>\n",
       "      <td>The RS-28 Sarmat missile, dubbed Satan 2, will...</td>\n",
       "      <td>1</td>\n",
       "      <td>The RS28 Sarmat missile dubbed Satan 2 will re...</td>\n",
       "      <td>[the, rs28, sarmat, missile, dubbed, satan, 2,...</td>\n",
       "      <td>[rs28, sarmat, missile, dubbed, satan, will, r...</td>\n",
       "      <td>[rs28, sarmat, missile, dubbed, satan, replace...</td>\n",
       "      <td>[rs28, sarmat, missile, dubbed, satan, replace...</td>\n",
       "    </tr>\n",
       "    <tr>\n",
       "      <th>5</th>\n",
       "      <td>About Time! Christian Group Sues Amazon and SP...</td>\n",
       "      <td>All we can say on this one is it s about time ...</td>\n",
       "      <td>1</td>\n",
       "      <td>All we can say on this one is it s about time ...</td>\n",
       "      <td>[all, we, can, say, on, this, one, is, it, s, ...</td>\n",
       "      <td>[this, about, time, someone, sued, southern, p...</td>\n",
       "      <td>[time, someone, sued, southern, poverty, cente...</td>\n",
       "      <td>[time, someone, sued, southern, poverty, cente...</td>\n",
       "    </tr>\n",
       "  </tbody>\n",
       "</table>\n",
       "</div>"
      ],
      "text/plain": [
       "                                               title  \\\n",
       "0  LAW ENFORCEMENT ON HIGH ALERT Following Threat...   \n",
       "2  UNBELIEVABLE! OBAMA’S ATTORNEY GENERAL SAYS MO...   \n",
       "3  Bobby Jindal, raised Hindu, uses story of Chri...   \n",
       "4  SATAN 2: Russia unvelis an image of its terrif...   \n",
       "5  About Time! Christian Group Sues Amazon and SP...   \n",
       "\n",
       "                                                text  label  \\\n",
       "0  No comment is expected from Barack Obama Membe...      1   \n",
       "2   Now, most of the demonstrators gathered last ...      1   \n",
       "3  A dozen politically active pastors came here f...      0   \n",
       "4  The RS-28 Sarmat missile, dubbed Satan 2, will...      1   \n",
       "5  All we can say on this one is it s about time ...      1   \n",
       "\n",
       "                                        removed_punc  \\\n",
       "0  No comment is expected from Barack Obama Membe...   \n",
       "2   Now most of the demonstrators gathered last n...   \n",
       "3  A dozen politically active pastors came here f...   \n",
       "4  The RS28 Sarmat missile dubbed Satan 2 will re...   \n",
       "5  All we can say on this one is it s about time ...   \n",
       "\n",
       "                                              tokens  \\\n",
       "0  [no, comment, is, expected, from, barack, obam...   \n",
       "2  [, now, most, of, the, demonstrators, gathered...   \n",
       "3  [a, dozen, politically, active, pastors, came,...   \n",
       "4  [the, rs28, sarmat, missile, dubbed, satan, 2,...   \n",
       "5  [all, we, can, say, on, this, one, is, it, s, ...   \n",
       "\n",
       "                                     filtered_tokens  \\\n",
       "0  [comment, expected, from, barack, obama, membe...   \n",
       "2  [most, demonstrators, gathered, last, night, w...   \n",
       "3  [dozen, politically, active, pastors, came, he...   \n",
       "4  [rs28, sarmat, missile, dubbed, satan, will, r...   \n",
       "5  [this, about, time, someone, sued, southern, p...   \n",
       "\n",
       "                                        clean_tokens  \\\n",
       "0  [comment, expected, barack, obama, members, fy...   \n",
       "2  [demonstrators, gathered, last, night, exercis...   \n",
       "3  [dozen, politically, active, pastors, came, pr...   \n",
       "4  [rs28, sarmat, missile, dubbed, satan, replace...   \n",
       "5  [time, someone, sued, southern, poverty, cente...   \n",
       "\n",
       "                                         lemma_words  \n",
       "0  [comment, expected, barack, obama, member, fyf...  \n",
       "2  [demonstrator, gathered, last, night, exercisi...  \n",
       "3  [dozen, politically, active, pastor, came, pri...  \n",
       "4  [rs28, sarmat, missile, dubbed, satan, replace...  \n",
       "5  [time, someone, sued, southern, poverty, cente...  "
      ]
     },
     "execution_count": 32,
     "metadata": {},
     "output_type": "execute_result"
    }
   ],
   "source": [
    "df['lemma_words'] = df['clean_tokens'].apply(lambda x : lemmatize(x))\n",
    "df.head()"
   ]
  },
  {
   "cell_type": "code",
   "execution_count": 33,
   "metadata": {},
   "outputs": [],
   "source": [
    "# Display the clean column\n",
    "def return_sentences(tokens):\n",
    "    return \" \".join([word for word in tokens])"
   ]
  },
  {
   "cell_type": "code",
   "execution_count": 34,
   "metadata": {},
   "outputs": [
    {
     "data": {
      "text/html": [
       "<div>\n",
       "<style scoped>\n",
       "    .dataframe tbody tr th:only-of-type {\n",
       "        vertical-align: middle;\n",
       "    }\n",
       "\n",
       "    .dataframe tbody tr th {\n",
       "        vertical-align: top;\n",
       "    }\n",
       "\n",
       "    .dataframe thead th {\n",
       "        text-align: right;\n",
       "    }\n",
       "</style>\n",
       "<table border=\"1\" class=\"dataframe\">\n",
       "  <thead>\n",
       "    <tr style=\"text-align: right;\">\n",
       "      <th></th>\n",
       "      <th>title</th>\n",
       "      <th>text</th>\n",
       "      <th>label</th>\n",
       "      <th>removed_punc</th>\n",
       "      <th>tokens</th>\n",
       "      <th>filtered_tokens</th>\n",
       "      <th>clean_tokens</th>\n",
       "      <th>lemma_words</th>\n",
       "      <th>clean</th>\n",
       "    </tr>\n",
       "  </thead>\n",
       "  <tbody>\n",
       "    <tr>\n",
       "      <th>0</th>\n",
       "      <td>LAW ENFORCEMENT ON HIGH ALERT Following Threat...</td>\n",
       "      <td>No comment is expected from Barack Obama Membe...</td>\n",
       "      <td>1</td>\n",
       "      <td>No comment is expected from Barack Obama Membe...</td>\n",
       "      <td>[no, comment, is, expected, from, barack, obam...</td>\n",
       "      <td>[comment, expected, from, barack, obama, membe...</td>\n",
       "      <td>[comment, expected, barack, obama, members, fy...</td>\n",
       "      <td>[comment, expected, barack, obama, member, fyf...</td>\n",
       "      <td>comment expected barack obama member fyf911 fu...</td>\n",
       "    </tr>\n",
       "    <tr>\n",
       "      <th>2</th>\n",
       "      <td>UNBELIEVABLE! OBAMA’S ATTORNEY GENERAL SAYS MO...</td>\n",
       "      <td>Now, most of the demonstrators gathered last ...</td>\n",
       "      <td>1</td>\n",
       "      <td>Now most of the demonstrators gathered last n...</td>\n",
       "      <td>[, now, most, of, the, demonstrators, gathered...</td>\n",
       "      <td>[most, demonstrators, gathered, last, night, w...</td>\n",
       "      <td>[demonstrators, gathered, last, night, exercis...</td>\n",
       "      <td>[demonstrator, gathered, last, night, exercisi...</td>\n",
       "      <td>demonstrator gathered last night exercising co...</td>\n",
       "    </tr>\n",
       "    <tr>\n",
       "      <th>3</th>\n",
       "      <td>Bobby Jindal, raised Hindu, uses story of Chri...</td>\n",
       "      <td>A dozen politically active pastors came here f...</td>\n",
       "      <td>0</td>\n",
       "      <td>A dozen politically active pastors came here f...</td>\n",
       "      <td>[a, dozen, politically, active, pastors, came,...</td>\n",
       "      <td>[dozen, politically, active, pastors, came, he...</td>\n",
       "      <td>[dozen, politically, active, pastors, came, pr...</td>\n",
       "      <td>[dozen, politically, active, pastor, came, pri...</td>\n",
       "      <td>dozen politically active pastor came private d...</td>\n",
       "    </tr>\n",
       "    <tr>\n",
       "      <th>4</th>\n",
       "      <td>SATAN 2: Russia unvelis an image of its terrif...</td>\n",
       "      <td>The RS-28 Sarmat missile, dubbed Satan 2, will...</td>\n",
       "      <td>1</td>\n",
       "      <td>The RS28 Sarmat missile dubbed Satan 2 will re...</td>\n",
       "      <td>[the, rs28, sarmat, missile, dubbed, satan, 2,...</td>\n",
       "      <td>[rs28, sarmat, missile, dubbed, satan, will, r...</td>\n",
       "      <td>[rs28, sarmat, missile, dubbed, satan, replace...</td>\n",
       "      <td>[rs28, sarmat, missile, dubbed, satan, replace...</td>\n",
       "      <td>rs28 sarmat missile dubbed satan replace ss18 ...</td>\n",
       "    </tr>\n",
       "    <tr>\n",
       "      <th>5</th>\n",
       "      <td>About Time! Christian Group Sues Amazon and SP...</td>\n",
       "      <td>All we can say on this one is it s about time ...</td>\n",
       "      <td>1</td>\n",
       "      <td>All we can say on this one is it s about time ...</td>\n",
       "      <td>[all, we, can, say, on, this, one, is, it, s, ...</td>\n",
       "      <td>[this, about, time, someone, sued, southern, p...</td>\n",
       "      <td>[time, someone, sued, southern, poverty, cente...</td>\n",
       "      <td>[time, someone, sued, southern, poverty, cente...</td>\n",
       "      <td>time someone sued southern poverty centeron tu...</td>\n",
       "    </tr>\n",
       "  </tbody>\n",
       "</table>\n",
       "</div>"
      ],
      "text/plain": [
       "                                               title  \\\n",
       "0  LAW ENFORCEMENT ON HIGH ALERT Following Threat...   \n",
       "2  UNBELIEVABLE! OBAMA’S ATTORNEY GENERAL SAYS MO...   \n",
       "3  Bobby Jindal, raised Hindu, uses story of Chri...   \n",
       "4  SATAN 2: Russia unvelis an image of its terrif...   \n",
       "5  About Time! Christian Group Sues Amazon and SP...   \n",
       "\n",
       "                                                text  label  \\\n",
       "0  No comment is expected from Barack Obama Membe...      1   \n",
       "2   Now, most of the demonstrators gathered last ...      1   \n",
       "3  A dozen politically active pastors came here f...      0   \n",
       "4  The RS-28 Sarmat missile, dubbed Satan 2, will...      1   \n",
       "5  All we can say on this one is it s about time ...      1   \n",
       "\n",
       "                                        removed_punc  \\\n",
       "0  No comment is expected from Barack Obama Membe...   \n",
       "2   Now most of the demonstrators gathered last n...   \n",
       "3  A dozen politically active pastors came here f...   \n",
       "4  The RS28 Sarmat missile dubbed Satan 2 will re...   \n",
       "5  All we can say on this one is it s about time ...   \n",
       "\n",
       "                                              tokens  \\\n",
       "0  [no, comment, is, expected, from, barack, obam...   \n",
       "2  [, now, most, of, the, demonstrators, gathered...   \n",
       "3  [a, dozen, politically, active, pastors, came,...   \n",
       "4  [the, rs28, sarmat, missile, dubbed, satan, 2,...   \n",
       "5  [all, we, can, say, on, this, one, is, it, s, ...   \n",
       "\n",
       "                                     filtered_tokens  \\\n",
       "0  [comment, expected, from, barack, obama, membe...   \n",
       "2  [most, demonstrators, gathered, last, night, w...   \n",
       "3  [dozen, politically, active, pastors, came, he...   \n",
       "4  [rs28, sarmat, missile, dubbed, satan, will, r...   \n",
       "5  [this, about, time, someone, sued, southern, p...   \n",
       "\n",
       "                                        clean_tokens  \\\n",
       "0  [comment, expected, barack, obama, members, fy...   \n",
       "2  [demonstrators, gathered, last, night, exercis...   \n",
       "3  [dozen, politically, active, pastors, came, pr...   \n",
       "4  [rs28, sarmat, missile, dubbed, satan, replace...   \n",
       "5  [time, someone, sued, southern, poverty, cente...   \n",
       "\n",
       "                                         lemma_words  \\\n",
       "0  [comment, expected, barack, obama, member, fyf...   \n",
       "2  [demonstrator, gathered, last, night, exercisi...   \n",
       "3  [dozen, politically, active, pastor, came, pri...   \n",
       "4  [rs28, sarmat, missile, dubbed, satan, replace...   \n",
       "5  [time, someone, sued, southern, poverty, cente...   \n",
       "\n",
       "                                               clean  \n",
       "0  comment expected barack obama member fyf911 fu...  \n",
       "2  demonstrator gathered last night exercising co...  \n",
       "3  dozen politically active pastor came private d...  \n",
       "4  rs28 sarmat missile dubbed satan replace ss18 ...  \n",
       "5  time someone sued southern poverty centeron tu...  "
      ]
     },
     "execution_count": 34,
     "metadata": {},
     "output_type": "execute_result"
    }
   ],
   "source": [
    "df['clean'] = df['lemma_words'].apply(lambda x : return_sentences(x))\n",
    "df.head()"
   ]
  },
  {
   "cell_type": "code",
   "execution_count": 35,
   "metadata": {},
   "outputs": [
    {
     "data": {
      "text/html": [
       "<div>\n",
       "<style scoped>\n",
       "    .dataframe tbody tr th:only-of-type {\n",
       "        vertical-align: middle;\n",
       "    }\n",
       "\n",
       "    .dataframe tbody tr th {\n",
       "        vertical-align: top;\n",
       "    }\n",
       "\n",
       "    .dataframe thead th {\n",
       "        text-align: right;\n",
       "    }\n",
       "</style>\n",
       "<table border=\"1\" class=\"dataframe\">\n",
       "  <thead>\n",
       "    <tr style=\"text-align: right;\">\n",
       "      <th></th>\n",
       "      <th>title</th>\n",
       "      <th>text</th>\n",
       "      <th>label</th>\n",
       "      <th>removed_punc</th>\n",
       "      <th>tokens</th>\n",
       "      <th>filtered_tokens</th>\n",
       "      <th>clean_tokens</th>\n",
       "      <th>lemma_words</th>\n",
       "      <th>clean</th>\n",
       "    </tr>\n",
       "  </thead>\n",
       "  <tbody>\n",
       "    <tr>\n",
       "      <th>0</th>\n",
       "      <td>LAW ENFORCEMENT ON HIGH ALERT Following Threat...</td>\n",
       "      <td>No comment is expected from Barack Obama Membe...</td>\n",
       "      <td>1</td>\n",
       "      <td>No comment is expected from Barack Obama Membe...</td>\n",
       "      <td>[no, comment, is, expected, from, barack, obam...</td>\n",
       "      <td>[comment, expected, from, barack, obama, membe...</td>\n",
       "      <td>[comment, expected, barack, obama, members, fy...</td>\n",
       "      <td>[comment, expected, barack, obama, member, fyf...</td>\n",
       "      <td>comment expected barack obama member fyf911 fu...</td>\n",
       "    </tr>\n",
       "    <tr>\n",
       "      <th>2</th>\n",
       "      <td>UNBELIEVABLE! OBAMA’S ATTORNEY GENERAL SAYS MO...</td>\n",
       "      <td>Now, most of the demonstrators gathered last ...</td>\n",
       "      <td>1</td>\n",
       "      <td>Now most of the demonstrators gathered last n...</td>\n",
       "      <td>[, now, most, of, the, demonstrators, gathered...</td>\n",
       "      <td>[most, demonstrators, gathered, last, night, w...</td>\n",
       "      <td>[demonstrators, gathered, last, night, exercis...</td>\n",
       "      <td>[demonstrator, gathered, last, night, exercisi...</td>\n",
       "      <td>demonstrator gathered last night exercising co...</td>\n",
       "    </tr>\n",
       "    <tr>\n",
       "      <th>3</th>\n",
       "      <td>Bobby Jindal, raised Hindu, uses story of Chri...</td>\n",
       "      <td>A dozen politically active pastors came here f...</td>\n",
       "      <td>0</td>\n",
       "      <td>A dozen politically active pastors came here f...</td>\n",
       "      <td>[a, dozen, politically, active, pastors, came,...</td>\n",
       "      <td>[dozen, politically, active, pastors, came, he...</td>\n",
       "      <td>[dozen, politically, active, pastors, came, pr...</td>\n",
       "      <td>[dozen, politically, active, pastor, came, pri...</td>\n",
       "      <td>dozen politically active pastor came private d...</td>\n",
       "    </tr>\n",
       "    <tr>\n",
       "      <th>4</th>\n",
       "      <td>SATAN 2: Russia unvelis an image of its terrif...</td>\n",
       "      <td>The RS-28 Sarmat missile, dubbed Satan 2, will...</td>\n",
       "      <td>1</td>\n",
       "      <td>The RS28 Sarmat missile dubbed Satan 2 will re...</td>\n",
       "      <td>[the, rs28, sarmat, missile, dubbed, satan, 2,...</td>\n",
       "      <td>[rs28, sarmat, missile, dubbed, satan, will, r...</td>\n",
       "      <td>[rs28, sarmat, missile, dubbed, satan, replace...</td>\n",
       "      <td>[rs28, sarmat, missile, dubbed, satan, replace...</td>\n",
       "      <td>rs28 sarmat missile dubbed satan replace ss18 ...</td>\n",
       "    </tr>\n",
       "    <tr>\n",
       "      <th>5</th>\n",
       "      <td>About Time! Christian Group Sues Amazon and SP...</td>\n",
       "      <td>All we can say on this one is it s about time ...</td>\n",
       "      <td>1</td>\n",
       "      <td>All we can say on this one is it s about time ...</td>\n",
       "      <td>[all, we, can, say, on, this, one, is, it, s, ...</td>\n",
       "      <td>[this, about, time, someone, sued, southern, p...</td>\n",
       "      <td>[time, someone, sued, southern, poverty, cente...</td>\n",
       "      <td>[time, someone, sued, southern, poverty, cente...</td>\n",
       "      <td>time someone sued southern poverty centeron tu...</td>\n",
       "    </tr>\n",
       "    <tr>\n",
       "      <th>...</th>\n",
       "      <td>...</td>\n",
       "      <td>...</td>\n",
       "      <td>...</td>\n",
       "      <td>...</td>\n",
       "      <td>...</td>\n",
       "      <td>...</td>\n",
       "      <td>...</td>\n",
       "      <td>...</td>\n",
       "      <td>...</td>\n",
       "    </tr>\n",
       "    <tr>\n",
       "      <th>72127</th>\n",
       "      <td>WIKILEAKS EMAIL SHOWS CLINTON FOUNDATION FUNDS...</td>\n",
       "      <td>An email released by WikiLeaks on Sunday appea...</td>\n",
       "      <td>1</td>\n",
       "      <td>An email released by WikiLeaks on Sunday appea...</td>\n",
       "      <td>[an, email, released, by, wikileaks, on, sunda...</td>\n",
       "      <td>[email, released, wikileaks, sunday, appears, ...</td>\n",
       "      <td>[email, released, wikileaks, sunday, appears, ...</td>\n",
       "      <td>[email, released, wikileaks, sunday, appears, ...</td>\n",
       "      <td>email released wikileaks sunday appears show f...</td>\n",
       "    </tr>\n",
       "    <tr>\n",
       "      <th>72129</th>\n",
       "      <td>Russians steal research on Trump in hack of U....</td>\n",
       "      <td>WASHINGTON (Reuters) - Hackers believed to be ...</td>\n",
       "      <td>0</td>\n",
       "      <td>WASHINGTON Reuters  Hackers believed to be wor...</td>\n",
       "      <td>[washington, reuters, hackers, believed, to, b...</td>\n",
       "      <td>[washington, reuters, hackers, believed, worki...</td>\n",
       "      <td>[washington, reuters, hackers, believed, worki...</td>\n",
       "      <td>[washington, reuters, hacker, believed, workin...</td>\n",
       "      <td>washington reuters hacker believed working rus...</td>\n",
       "    </tr>\n",
       "    <tr>\n",
       "      <th>72130</th>\n",
       "      <td>WATCH: Giuliani Demands That Democrats Apolog...</td>\n",
       "      <td>You know, because in fantasyland Republicans n...</td>\n",
       "      <td>1</td>\n",
       "      <td>You know because in fantasyland Republicans ne...</td>\n",
       "      <td>[you, know, because, in, fantasyland, republic...</td>\n",
       "      <td>[know, because, fantasyland, republicans, neve...</td>\n",
       "      <td>[know, fantasyland, republicans, never, questi...</td>\n",
       "      <td>[know, fantasyland, republican, never, questio...</td>\n",
       "      <td>know fantasyland republican never questioned c...</td>\n",
       "    </tr>\n",
       "    <tr>\n",
       "      <th>72131</th>\n",
       "      <td>Migrants Refuse To Leave Train At Refugee Camp...</td>\n",
       "      <td>Migrants Refuse To Leave Train At Refugee Camp...</td>\n",
       "      <td>0</td>\n",
       "      <td>Migrants Refuse To Leave Train At Refugee Camp...</td>\n",
       "      <td>[migrants, refuse, to, leave, train, at, refug...</td>\n",
       "      <td>[migrants, refuse, leave, train, refugee, camp...</td>\n",
       "      <td>[migrants, refuse, leave, train, refugee, camp...</td>\n",
       "      <td>[migrant, refuse, leave, train, refugee, camp,...</td>\n",
       "      <td>migrant refuse leave train refugee camp hungar...</td>\n",
       "    </tr>\n",
       "    <tr>\n",
       "      <th>72132</th>\n",
       "      <td>Trump tussle gives unpopular Mexican leader mu...</td>\n",
       "      <td>MEXICO CITY (Reuters) - Donald Trump’s combati...</td>\n",
       "      <td>0</td>\n",
       "      <td>MEXICO CITY Reuters  Donald Trump’s combative ...</td>\n",
       "      <td>[mexico, city, reuters, donald, trump’s, comba...</td>\n",
       "      <td>[mexico, city, reuters, donald, trump’s, comba...</td>\n",
       "      <td>[mexico, city, reuters, donald, trump’s, comba...</td>\n",
       "      <td>[mexico, city, reuters, donald, trump’s, comba...</td>\n",
       "      <td>mexico city reuters donald trump’s combative s...</td>\n",
       "    </tr>\n",
       "  </tbody>\n",
       "</table>\n",
       "<p>63121 rows × 9 columns</p>\n",
       "</div>"
      ],
      "text/plain": [
       "                                                   title  \\\n",
       "0      LAW ENFORCEMENT ON HIGH ALERT Following Threat...   \n",
       "2      UNBELIEVABLE! OBAMA’S ATTORNEY GENERAL SAYS MO...   \n",
       "3      Bobby Jindal, raised Hindu, uses story of Chri...   \n",
       "4      SATAN 2: Russia unvelis an image of its terrif...   \n",
       "5      About Time! Christian Group Sues Amazon and SP...   \n",
       "...                                                  ...   \n",
       "72127  WIKILEAKS EMAIL SHOWS CLINTON FOUNDATION FUNDS...   \n",
       "72129  Russians steal research on Trump in hack of U....   \n",
       "72130   WATCH: Giuliani Demands That Democrats Apolog...   \n",
       "72131  Migrants Refuse To Leave Train At Refugee Camp...   \n",
       "72132  Trump tussle gives unpopular Mexican leader mu...   \n",
       "\n",
       "                                                    text  label  \\\n",
       "0      No comment is expected from Barack Obama Membe...      1   \n",
       "2       Now, most of the demonstrators gathered last ...      1   \n",
       "3      A dozen politically active pastors came here f...      0   \n",
       "4      The RS-28 Sarmat missile, dubbed Satan 2, will...      1   \n",
       "5      All we can say on this one is it s about time ...      1   \n",
       "...                                                  ...    ...   \n",
       "72127  An email released by WikiLeaks on Sunday appea...      1   \n",
       "72129  WASHINGTON (Reuters) - Hackers believed to be ...      0   \n",
       "72130  You know, because in fantasyland Republicans n...      1   \n",
       "72131  Migrants Refuse To Leave Train At Refugee Camp...      0   \n",
       "72132  MEXICO CITY (Reuters) - Donald Trump’s combati...      0   \n",
       "\n",
       "                                            removed_punc  \\\n",
       "0      No comment is expected from Barack Obama Membe...   \n",
       "2       Now most of the demonstrators gathered last n...   \n",
       "3      A dozen politically active pastors came here f...   \n",
       "4      The RS28 Sarmat missile dubbed Satan 2 will re...   \n",
       "5      All we can say on this one is it s about time ...   \n",
       "...                                                  ...   \n",
       "72127  An email released by WikiLeaks on Sunday appea...   \n",
       "72129  WASHINGTON Reuters  Hackers believed to be wor...   \n",
       "72130  You know because in fantasyland Republicans ne...   \n",
       "72131  Migrants Refuse To Leave Train At Refugee Camp...   \n",
       "72132  MEXICO CITY Reuters  Donald Trump’s combative ...   \n",
       "\n",
       "                                                  tokens  \\\n",
       "0      [no, comment, is, expected, from, barack, obam...   \n",
       "2      [, now, most, of, the, demonstrators, gathered...   \n",
       "3      [a, dozen, politically, active, pastors, came,...   \n",
       "4      [the, rs28, sarmat, missile, dubbed, satan, 2,...   \n",
       "5      [all, we, can, say, on, this, one, is, it, s, ...   \n",
       "...                                                  ...   \n",
       "72127  [an, email, released, by, wikileaks, on, sunda...   \n",
       "72129  [washington, reuters, hackers, believed, to, b...   \n",
       "72130  [you, know, because, in, fantasyland, republic...   \n",
       "72131  [migrants, refuse, to, leave, train, at, refug...   \n",
       "72132  [mexico, city, reuters, donald, trump’s, comba...   \n",
       "\n",
       "                                         filtered_tokens  \\\n",
       "0      [comment, expected, from, barack, obama, membe...   \n",
       "2      [most, demonstrators, gathered, last, night, w...   \n",
       "3      [dozen, politically, active, pastors, came, he...   \n",
       "4      [rs28, sarmat, missile, dubbed, satan, will, r...   \n",
       "5      [this, about, time, someone, sued, southern, p...   \n",
       "...                                                  ...   \n",
       "72127  [email, released, wikileaks, sunday, appears, ...   \n",
       "72129  [washington, reuters, hackers, believed, worki...   \n",
       "72130  [know, because, fantasyland, republicans, neve...   \n",
       "72131  [migrants, refuse, leave, train, refugee, camp...   \n",
       "72132  [mexico, city, reuters, donald, trump’s, comba...   \n",
       "\n",
       "                                            clean_tokens  \\\n",
       "0      [comment, expected, barack, obama, members, fy...   \n",
       "2      [demonstrators, gathered, last, night, exercis...   \n",
       "3      [dozen, politically, active, pastors, came, pr...   \n",
       "4      [rs28, sarmat, missile, dubbed, satan, replace...   \n",
       "5      [time, someone, sued, southern, poverty, cente...   \n",
       "...                                                  ...   \n",
       "72127  [email, released, wikileaks, sunday, appears, ...   \n",
       "72129  [washington, reuters, hackers, believed, worki...   \n",
       "72130  [know, fantasyland, republicans, never, questi...   \n",
       "72131  [migrants, refuse, leave, train, refugee, camp...   \n",
       "72132  [mexico, city, reuters, donald, trump’s, comba...   \n",
       "\n",
       "                                             lemma_words  \\\n",
       "0      [comment, expected, barack, obama, member, fyf...   \n",
       "2      [demonstrator, gathered, last, night, exercisi...   \n",
       "3      [dozen, politically, active, pastor, came, pri...   \n",
       "4      [rs28, sarmat, missile, dubbed, satan, replace...   \n",
       "5      [time, someone, sued, southern, poverty, cente...   \n",
       "...                                                  ...   \n",
       "72127  [email, released, wikileaks, sunday, appears, ...   \n",
       "72129  [washington, reuters, hacker, believed, workin...   \n",
       "72130  [know, fantasyland, republican, never, questio...   \n",
       "72131  [migrant, refuse, leave, train, refugee, camp,...   \n",
       "72132  [mexico, city, reuters, donald, trump’s, comba...   \n",
       "\n",
       "                                                   clean  \n",
       "0      comment expected barack obama member fyf911 fu...  \n",
       "2      demonstrator gathered last night exercising co...  \n",
       "3      dozen politically active pastor came private d...  \n",
       "4      rs28 sarmat missile dubbed satan replace ss18 ...  \n",
       "5      time someone sued southern poverty centeron tu...  \n",
       "...                                                  ...  \n",
       "72127  email released wikileaks sunday appears show f...  \n",
       "72129  washington reuters hacker believed working rus...  \n",
       "72130  know fantasyland republican never questioned c...  \n",
       "72131  migrant refuse leave train refugee camp hungar...  \n",
       "72132  mexico city reuters donald trump’s combative s...  \n",
       "\n",
       "[63121 rows x 9 columns]"
      ]
     },
     "execution_count": 35,
     "metadata": {},
     "output_type": "execute_result"
    }
   ],
   "source": [
    "# Display the dataframe\n",
    "df"
   ]
  },
  {
   "cell_type": "code",
   "execution_count": 37,
   "metadata": {},
   "outputs": [],
   "source": [
    "# remove the unnamed serial number column which is not required\n",
    "df = df.loc[:,  ~df.columns.str.contains('^removed_punc')]"
   ]
  },
  {
   "cell_type": "code",
   "execution_count": 38,
   "metadata": {},
   "outputs": [],
   "source": [
    "# remove the unnamed serial number column which is not required\n",
    "df = df.loc[:,  ~df.columns.str.contains('^tokens')]"
   ]
  },
  {
   "cell_type": "code",
   "execution_count": 39,
   "metadata": {},
   "outputs": [],
   "source": [
    "df = df.loc[:,  ~df.columns.str.contains('^filtered_tokens')]"
   ]
  },
  {
   "cell_type": "code",
   "execution_count": 40,
   "metadata": {},
   "outputs": [],
   "source": [
    "df = df.loc[:,  ~df.columns.str.contains('^clean_tokens')]"
   ]
  },
  {
   "cell_type": "code",
   "execution_count": 41,
   "metadata": {},
   "outputs": [],
   "source": [
    "df = df.loc[:,  ~df.columns.str.contains('^clean_text')]"
   ]
  },
  {
   "cell_type": "code",
   "execution_count": 42,
   "metadata": {},
   "outputs": [
    {
     "data": {
      "text/html": [
       "<div>\n",
       "<style scoped>\n",
       "    .dataframe tbody tr th:only-of-type {\n",
       "        vertical-align: middle;\n",
       "    }\n",
       "\n",
       "    .dataframe tbody tr th {\n",
       "        vertical-align: top;\n",
       "    }\n",
       "\n",
       "    .dataframe thead th {\n",
       "        text-align: right;\n",
       "    }\n",
       "</style>\n",
       "<table border=\"1\" class=\"dataframe\">\n",
       "  <thead>\n",
       "    <tr style=\"text-align: right;\">\n",
       "      <th></th>\n",
       "      <th>title</th>\n",
       "      <th>text</th>\n",
       "      <th>label</th>\n",
       "      <th>lemma_words</th>\n",
       "      <th>clean</th>\n",
       "    </tr>\n",
       "  </thead>\n",
       "  <tbody>\n",
       "    <tr>\n",
       "      <th>0</th>\n",
       "      <td>LAW ENFORCEMENT ON HIGH ALERT Following Threat...</td>\n",
       "      <td>No comment is expected from Barack Obama Membe...</td>\n",
       "      <td>1</td>\n",
       "      <td>[comment, expected, barack, obama, member, fyf...</td>\n",
       "      <td>comment expected barack obama member fyf911 fu...</td>\n",
       "    </tr>\n",
       "    <tr>\n",
       "      <th>2</th>\n",
       "      <td>UNBELIEVABLE! OBAMA’S ATTORNEY GENERAL SAYS MO...</td>\n",
       "      <td>Now, most of the demonstrators gathered last ...</td>\n",
       "      <td>1</td>\n",
       "      <td>[demonstrator, gathered, last, night, exercisi...</td>\n",
       "      <td>demonstrator gathered last night exercising co...</td>\n",
       "    </tr>\n",
       "    <tr>\n",
       "      <th>3</th>\n",
       "      <td>Bobby Jindal, raised Hindu, uses story of Chri...</td>\n",
       "      <td>A dozen politically active pastors came here f...</td>\n",
       "      <td>0</td>\n",
       "      <td>[dozen, politically, active, pastor, came, pri...</td>\n",
       "      <td>dozen politically active pastor came private d...</td>\n",
       "    </tr>\n",
       "    <tr>\n",
       "      <th>4</th>\n",
       "      <td>SATAN 2: Russia unvelis an image of its terrif...</td>\n",
       "      <td>The RS-28 Sarmat missile, dubbed Satan 2, will...</td>\n",
       "      <td>1</td>\n",
       "      <td>[rs28, sarmat, missile, dubbed, satan, replace...</td>\n",
       "      <td>rs28 sarmat missile dubbed satan replace ss18 ...</td>\n",
       "    </tr>\n",
       "    <tr>\n",
       "      <th>5</th>\n",
       "      <td>About Time! Christian Group Sues Amazon and SP...</td>\n",
       "      <td>All we can say on this one is it s about time ...</td>\n",
       "      <td>1</td>\n",
       "      <td>[time, someone, sued, southern, poverty, cente...</td>\n",
       "      <td>time someone sued southern poverty centeron tu...</td>\n",
       "    </tr>\n",
       "    <tr>\n",
       "      <th>...</th>\n",
       "      <td>...</td>\n",
       "      <td>...</td>\n",
       "      <td>...</td>\n",
       "      <td>...</td>\n",
       "      <td>...</td>\n",
       "    </tr>\n",
       "    <tr>\n",
       "      <th>72127</th>\n",
       "      <td>WIKILEAKS EMAIL SHOWS CLINTON FOUNDATION FUNDS...</td>\n",
       "      <td>An email released by WikiLeaks on Sunday appea...</td>\n",
       "      <td>1</td>\n",
       "      <td>[email, released, wikileaks, sunday, appears, ...</td>\n",
       "      <td>email released wikileaks sunday appears show f...</td>\n",
       "    </tr>\n",
       "    <tr>\n",
       "      <th>72129</th>\n",
       "      <td>Russians steal research on Trump in hack of U....</td>\n",
       "      <td>WASHINGTON (Reuters) - Hackers believed to be ...</td>\n",
       "      <td>0</td>\n",
       "      <td>[washington, reuters, hacker, believed, workin...</td>\n",
       "      <td>washington reuters hacker believed working rus...</td>\n",
       "    </tr>\n",
       "    <tr>\n",
       "      <th>72130</th>\n",
       "      <td>WATCH: Giuliani Demands That Democrats Apolog...</td>\n",
       "      <td>You know, because in fantasyland Republicans n...</td>\n",
       "      <td>1</td>\n",
       "      <td>[know, fantasyland, republican, never, questio...</td>\n",
       "      <td>know fantasyland republican never questioned c...</td>\n",
       "    </tr>\n",
       "    <tr>\n",
       "      <th>72131</th>\n",
       "      <td>Migrants Refuse To Leave Train At Refugee Camp...</td>\n",
       "      <td>Migrants Refuse To Leave Train At Refugee Camp...</td>\n",
       "      <td>0</td>\n",
       "      <td>[migrant, refuse, leave, train, refugee, camp,...</td>\n",
       "      <td>migrant refuse leave train refugee camp hungar...</td>\n",
       "    </tr>\n",
       "    <tr>\n",
       "      <th>72132</th>\n",
       "      <td>Trump tussle gives unpopular Mexican leader mu...</td>\n",
       "      <td>MEXICO CITY (Reuters) - Donald Trump’s combati...</td>\n",
       "      <td>0</td>\n",
       "      <td>[mexico, city, reuters, donald, trump’s, comba...</td>\n",
       "      <td>mexico city reuters donald trump’s combative s...</td>\n",
       "    </tr>\n",
       "  </tbody>\n",
       "</table>\n",
       "<p>63121 rows × 5 columns</p>\n",
       "</div>"
      ],
      "text/plain": [
       "                                                   title  \\\n",
       "0      LAW ENFORCEMENT ON HIGH ALERT Following Threat...   \n",
       "2      UNBELIEVABLE! OBAMA’S ATTORNEY GENERAL SAYS MO...   \n",
       "3      Bobby Jindal, raised Hindu, uses story of Chri...   \n",
       "4      SATAN 2: Russia unvelis an image of its terrif...   \n",
       "5      About Time! Christian Group Sues Amazon and SP...   \n",
       "...                                                  ...   \n",
       "72127  WIKILEAKS EMAIL SHOWS CLINTON FOUNDATION FUNDS...   \n",
       "72129  Russians steal research on Trump in hack of U....   \n",
       "72130   WATCH: Giuliani Demands That Democrats Apolog...   \n",
       "72131  Migrants Refuse To Leave Train At Refugee Camp...   \n",
       "72132  Trump tussle gives unpopular Mexican leader mu...   \n",
       "\n",
       "                                                    text  label  \\\n",
       "0      No comment is expected from Barack Obama Membe...      1   \n",
       "2       Now, most of the demonstrators gathered last ...      1   \n",
       "3      A dozen politically active pastors came here f...      0   \n",
       "4      The RS-28 Sarmat missile, dubbed Satan 2, will...      1   \n",
       "5      All we can say on this one is it s about time ...      1   \n",
       "...                                                  ...    ...   \n",
       "72127  An email released by WikiLeaks on Sunday appea...      1   \n",
       "72129  WASHINGTON (Reuters) - Hackers believed to be ...      0   \n",
       "72130  You know, because in fantasyland Republicans n...      1   \n",
       "72131  Migrants Refuse To Leave Train At Refugee Camp...      0   \n",
       "72132  MEXICO CITY (Reuters) - Donald Trump’s combati...      0   \n",
       "\n",
       "                                             lemma_words  \\\n",
       "0      [comment, expected, barack, obama, member, fyf...   \n",
       "2      [demonstrator, gathered, last, night, exercisi...   \n",
       "3      [dozen, politically, active, pastor, came, pri...   \n",
       "4      [rs28, sarmat, missile, dubbed, satan, replace...   \n",
       "5      [time, someone, sued, southern, poverty, cente...   \n",
       "...                                                  ...   \n",
       "72127  [email, released, wikileaks, sunday, appears, ...   \n",
       "72129  [washington, reuters, hacker, believed, workin...   \n",
       "72130  [know, fantasyland, republican, never, questio...   \n",
       "72131  [migrant, refuse, leave, train, refugee, camp,...   \n",
       "72132  [mexico, city, reuters, donald, trump’s, comba...   \n",
       "\n",
       "                                                   clean  \n",
       "0      comment expected barack obama member fyf911 fu...  \n",
       "2      demonstrator gathered last night exercising co...  \n",
       "3      dozen politically active pastor came private d...  \n",
       "4      rs28 sarmat missile dubbed satan replace ss18 ...  \n",
       "5      time someone sued southern poverty centeron tu...  \n",
       "...                                                  ...  \n",
       "72127  email released wikileaks sunday appears show f...  \n",
       "72129  washington reuters hacker believed working rus...  \n",
       "72130  know fantasyland republican never questioned c...  \n",
       "72131  migrant refuse leave train refugee camp hungar...  \n",
       "72132  mexico city reuters donald trump’s combative s...  \n",
       "\n",
       "[63121 rows x 5 columns]"
      ]
     },
     "execution_count": 42,
     "metadata": {},
     "output_type": "execute_result"
    }
   ],
   "source": [
    "df"
   ]
  },
  {
   "cell_type": "code",
   "execution_count": 43,
   "metadata": {
    "id": "JGSpPJw7YsNJ"
   },
   "outputs": [],
   "source": [
    "# Obtain the total words present in the dataset\n",
    "list_of_words = []\n",
    "for i in df.lemma_words:\n",
    "    for j in i:\n",
    "        list_of_words.append(j)"
   ]
  },
  {
   "cell_type": "code",
   "execution_count": 44,
   "metadata": {
    "colab": {
     "base_uri": "https://localhost:8080/"
    },
    "id": "cH54A9sFYsQ2",
    "outputId": "c54d1208-8803-43f6-af1a-d65b95ec005b"
   },
   "outputs": [
    {
     "data": {
      "text/plain": [
       "18125309"
      ]
     },
     "execution_count": 44,
     "metadata": {},
     "output_type": "execute_result"
    }
   ],
   "source": [
    "len(list_of_words)"
   ]
  },
  {
   "cell_type": "code",
   "execution_count": 45,
   "metadata": {
    "colab": {
     "base_uri": "https://localhost:8080/"
    },
    "id": "EAxf2CEBYsXg",
    "outputId": "728f8a60-36c3-475d-a831-e89d6220297b"
   },
   "outputs": [
    {
     "data": {
      "text/plain": [
       "422968"
      ]
     },
     "execution_count": 45,
     "metadata": {},
     "output_type": "execute_result"
    }
   ],
   "source": [
    "# Get the total number of words from the list_of_words\n",
    "total_words = len(list(set(list_of_words)))\n",
    "total_words"
   ]
  },
  {
   "cell_type": "code",
   "execution_count": 47,
   "metadata": {},
   "outputs": [],
   "source": [
    "x = df['clean']\n",
    "y = df['label']"
   ]
  },
  {
   "cell_type": "code",
   "execution_count": 49,
   "metadata": {},
   "outputs": [],
   "source": [
    "from sklearn.model_selection import train_test_split"
   ]
  },
  {
   "cell_type": "code",
   "execution_count": 50,
   "metadata": {},
   "outputs": [],
   "source": [
    "x_train,x_test,y_train,y_test = train_test_split(x,y,test_size=0.3,random_state=0)"
   ]
  },
  {
   "cell_type": "code",
   "execution_count": 51,
   "metadata": {
    "id": "mlDV_lhxWHFO"
   },
   "outputs": [],
   "source": [
    "# Create Tokenizer\n",
    "tokenizer = Tokenizer(num_words = total_words)\n",
    "tokenizer.fit_on_texts(x_train)\n",
    "train_sequences = tokenizer.texts_to_sequences(x_train)\n",
    "test_sequences = tokenizer.texts_to_sequences(x_test)"
   ]
  },
  {
   "cell_type": "code",
   "execution_count": 52,
   "metadata": {
    "colab": {
     "base_uri": "https://localhost:8080/"
    },
    "id": "siUBID6rZLYS",
    "outputId": "29d4266d-bcbe-4e72-ae11-5ca6ec7df39d"
   },
   "outputs": [
    {
     "data": {
      "text/plain": [
       "44184"
      ]
     },
     "execution_count": 52,
     "metadata": {},
     "output_type": "execute_result"
    }
   ],
   "source": [
    "len(train_sequences)"
   ]
  },
  {
   "cell_type": "code",
   "execution_count": 53,
   "metadata": {
    "colab": {
     "base_uri": "https://localhost:8080/"
    },
    "id": "n72lqYVQZLcr",
    "outputId": "cfea8ae7-df1b-4c20-b98e-3ec932efdb0c"
   },
   "outputs": [
    {
     "data": {
      "text/plain": [
       "18937"
      ]
     },
     "execution_count": 53,
     "metadata": {},
     "output_type": "execute_result"
    }
   ],
   "source": [
    "len(test_sequences)"
   ]
  },
  {
   "cell_type": "code",
   "execution_count": 54,
   "metadata": {
    "id": "Es4jj93VZLf3"
   },
   "outputs": [],
   "source": [
    "# Add padding\n",
    "padded_train = pad_sequences(train_sequences,maxlen = 40, padding = 'post', truncating = 'post')\n",
    "padded_test = pad_sequences(test_sequences,maxlen = 40, padding = 'post', truncating = 'post') "
   ]
  },
  {
   "cell_type": "code",
   "execution_count": 55,
   "metadata": {
    "colab": {
     "base_uri": "https://localhost:8080/"
    },
    "id": "Iig7KXGgZLjH",
    "outputId": "fe53e8aa-00e1-4d04-ba59-26e4b69e94bc"
   },
   "outputs": [
    {
     "name": "stdout",
     "output_type": "stream",
     "text": [
      "The padded encoding for document 1  is :  [   113    786     10   1543  19549   3323   1450  32047   9560   4684\n",
      "      3    123 137499    113    786   4959  13960     31   3437    311\n",
      "    272      3   6454  19549  19550    354     93   1399     94   2346\n",
      "     54   1399   6976   3160    477   9072   3286  19850  77568   6180]\n",
      "The padded encoding for document 2  is :  [  3361    335    424   8051    299   1208    119   7244   3205     10\n",
      "  10544   1922    335   4373   1629    447  10210     21      2  14703\n",
      "     24     28    910    858    335 137504  29884      2    323    302\n",
      "    728  12617    382   1690    686 137505  12930  26534   2288    104]\n"
     ]
    }
   ],
   "source": [
    "for i,doc in enumerate(padded_train[:2]):\n",
    "     print(\"The padded encoding for document\",i+1,\" is : \",doc)"
   ]
  },
  {
   "cell_type": "code",
   "execution_count": 58,
   "metadata": {},
   "outputs": [],
   "source": [
    "from keras.layers import Dropout"
   ]
  },
  {
   "cell_type": "code",
   "execution_count": 59,
   "metadata": {},
   "outputs": [
    {
     "name": "stdout",
     "output_type": "stream",
     "text": [
      "Model: \"sequential_1\"\n",
      "_________________________________________________________________\n",
      " Layer (type)                Output Shape              Param #   \n",
      "=================================================================\n",
      " embedding_1 (Embedding)     (None, 40, 40)            16918720  \n",
      "                                                                 \n",
      " dropout (Dropout)           (None, 40, 40)            0         \n",
      "                                                                 \n",
      " lstm (LSTM)                 (None, 100)               56400     \n",
      "                                                                 \n",
      " dropout_1 (Dropout)         (None, 100)               0         \n",
      "                                                                 \n",
      " dense (Dense)               (None, 1)                 101       \n",
      "                                                                 \n",
      "=================================================================\n",
      "Total params: 16,975,221\n",
      "Trainable params: 16,975,221\n",
      "Non-trainable params: 0\n",
      "_________________________________________________________________\n",
      "None\n"
     ]
    }
   ],
   "source": [
    "# Create model for LSTM\n",
    "embedding_vector_features=40\n",
    "model=Sequential()\n",
    "model.add(Embedding(total_words,embedding_vector_features,input_length=40))\n",
    "model.add(Dropout(0.3))\n",
    "model.add(LSTM(100))\n",
    "model.add(Dropout(0.3))\n",
    "model.add(Dense(1,activation='sigmoid'))\n",
    "model.compile(loss='binary_crossentropy',optimizer='adam',metrics=['accuracy'])\n",
    "print(model.summary())"
   ]
  },
  {
   "cell_type": "code",
   "execution_count": 60,
   "metadata": {
    "id": "R-wsWStwZohi"
   },
   "outputs": [],
   "source": [
    "y_train = np.asarray(y_train)"
   ]
  },
  {
   "cell_type": "code",
   "execution_count": 61,
   "metadata": {
    "colab": {
     "base_uri": "https://localhost:8080/"
    },
    "id": "t6v5Npz0Zok6",
    "outputId": "216c5ae0-9985-41d6-ee21-3e1a6ca010f6"
   },
   "outputs": [
    {
     "name": "stdout",
     "output_type": "stream",
     "text": [
      "Epoch 1/11\n",
      "622/622 [==============================] - 65s 103ms/step - loss: 0.2603 - accuracy: 0.8877 - val_loss: 0.2103 - val_accuracy: 0.9160\n",
      "Epoch 2/11\n",
      "622/622 [==============================] - 62s 99ms/step - loss: 0.1080 - accuracy: 0.9615 - val_loss: 0.2434 - val_accuracy: 0.9199\n",
      "Epoch 3/11\n",
      "622/622 [==============================] - 61s 97ms/step - loss: 0.0528 - accuracy: 0.9830 - val_loss: 0.2460 - val_accuracy: 0.9095\n",
      "Epoch 4/11\n",
      "622/622 [==============================] - 63s 101ms/step - loss: 0.0297 - accuracy: 0.9914 - val_loss: 0.4123 - val_accuracy: 0.9034\n",
      "Epoch 5/11\n",
      "622/622 [==============================] - 63s 101ms/step - loss: 0.0196 - accuracy: 0.9942 - val_loss: 0.5593 - val_accuracy: 0.9065\n",
      "Epoch 6/11\n",
      "622/622 [==============================] - 62s 100ms/step - loss: 0.0166 - accuracy: 0.9947 - val_loss: 0.3945 - val_accuracy: 0.9072\n",
      "Epoch 7/11\n",
      "622/622 [==============================] - 61s 98ms/step - loss: 0.0132 - accuracy: 0.9963 - val_loss: 0.3338 - val_accuracy: 0.8964\n",
      "Epoch 8/11\n",
      "622/622 [==============================] - 61s 99ms/step - loss: 0.0103 - accuracy: 0.9968 - val_loss: 0.3235 - val_accuracy: 0.8961\n",
      "Epoch 9/11\n",
      "622/622 [==============================] - 61s 98ms/step - loss: 0.0088 - accuracy: 0.9974 - val_loss: 0.5025 - val_accuracy: 0.9041\n",
      "Epoch 10/11\n",
      "622/622 [==============================] - 60s 97ms/step - loss: 0.0059 - accuracy: 0.9985 - val_loss: 0.7551 - val_accuracy: 0.9013\n",
      "Epoch 11/11\n",
      "622/622 [==============================] - 62s 100ms/step - loss: 0.0072 - accuracy: 0.9980 - val_loss: 0.5882 - val_accuracy: 0.9072\n"
     ]
    },
    {
     "data": {
      "text/plain": [
       "<keras.callbacks.History at 0x27b4ec8bdc0>"
      ]
     },
     "execution_count": 61,
     "metadata": {},
     "output_type": "execute_result"
    }
   ],
   "source": [
    "# train the model\n",
    "model.fit(padded_train, y_train, batch_size = 64, validation_split = 0.1, epochs = 11)"
   ]
  },
  {
   "cell_type": "code",
   "execution_count": 62,
   "metadata": {
    "colab": {
     "base_uri": "https://localhost:8080/"
    },
    "id": "CnyH4YAyZooa",
    "outputId": "8b16101f-169c-4471-8472-ce12768cf9e5"
   },
   "outputs": [
    {
     "name": "stdout",
     "output_type": "stream",
     "text": [
      "592/592 [==============================] - 3s 4ms/step\n"
     ]
    }
   ],
   "source": [
    "# do the prediction\n",
    "pred = model.predict(padded_test)"
   ]
  },
  {
   "cell_type": "code",
   "execution_count": 63,
   "metadata": {
    "id": "cwiT9Q6uZorb"
   },
   "outputs": [],
   "source": [
    "# compute the predicted value\n",
    "prediction = []\n",
    "for i in range(len(pred)):\n",
    "    if pred[i].item() > 0.5:\n",
    "        prediction.append(1)\n",
    "    else:\n",
    "        prediction.append(0)"
   ]
  },
  {
   "cell_type": "code",
   "execution_count": 64,
   "metadata": {
    "colab": {
     "base_uri": "https://localhost:8080/"
    },
    "id": "5I-G8T98ZLp9",
    "outputId": "4c7539e4-0327-4696-dc61-5f367cc3736c",
    "scrolled": true
   },
   "outputs": [
    {
     "name": "stdout",
     "output_type": "stream",
     "text": [
      "Model Accuracy :  0.9046839520515393\n"
     ]
    }
   ],
   "source": [
    "# getting the accuracy\n",
    "from sklearn.metrics import accuracy_score\n",
    "\n",
    "accuracy = accuracy_score(list(y_test), prediction)\n",
    "\n",
    "print(\"Model Accuracy : \", accuracy)"
   ]
  },
  {
   "cell_type": "code",
   "execution_count": 65,
   "metadata": {
    "id": "3SMPyvsje5TI"
   },
   "outputs": [
    {
     "name": "stdout",
     "output_type": "stream",
     "text": [
      "              precision    recall  f1-score   support\n",
      "\n",
      "           0       0.91      0.92      0.91     10381\n",
      "           1       0.90      0.89      0.89      8556\n",
      "\n",
      "    accuracy                           0.90     18937\n",
      "   macro avg       0.90      0.90      0.90     18937\n",
      "weighted avg       0.90      0.90      0.90     18937\n",
      "\n"
     ]
    },
    {
     "data": {
      "image/png": "[encoded data removed]",
      "text/plain": [
       "<Figure size 600x600 with 2 Axes>"
      ]
     },
     "metadata": {},
     "output_type": "display_data"
    }
   ],
   "source": [
    "# generating the Confusion Matrix\n",
    "from sklearn.metrics import confusion_matrix, classification_report\n",
    "cm = confusion_matrix(list(y_test), prediction)\n",
    "plt.figure(figsize = (6, 6))\n",
    "sns.heatmap(cm, annot = True)\n",
    "\n",
    "print(classification_report(y_test, prediction))"
   ]
  },
  {
   "cell_type": "code",
   "execution_count": null,
   "metadata": {},
   "outputs": [],
   "source": []
  },
  {
   "cell_type": "code",
   "execution_count": 66,
   "metadata": {},
   "outputs": [
    {
     "name": "stdout",
     "output_type": "stream",
     "text": [
      "Model: \"sequential_2\"\n",
      "_________________________________________________________________\n",
      " Layer (type)                Output Shape              Param #   \n",
      "=================================================================\n",
      " embedding_2 (Embedding)     (None, None, 128)         54139904  \n",
      "                                                                 \n",
      " bidirectional (Bidirectiona  (None, 256)              263168    \n",
      " l)                                                              \n",
      "                                                                 \n",
      " dense_1 (Dense)             (None, 128)               32896     \n",
      "                                                                 \n",
      " dense_2 (Dense)             (None, 1)                 129       \n",
      "                                                                 \n",
      "=================================================================\n",
      "Total params: 54,436,097\n",
      "Trainable params: 54,436,097\n",
      "Non-trainable params: 0\n",
      "_________________________________________________________________\n"
     ]
    }
   ],
   "source": [
    "# Bidirectional LSTM\n",
    "# Layers put in sequence\n",
    "model = Sequential()\n",
    "\n",
    "# embeddidng layer\n",
    "model.add(Embedding(total_words, output_dim = 128))\n",
    "\n",
    "# Bi-Directional LSTM\n",
    "model.add(Bidirectional(LSTM(128))) # no of neurons\n",
    "\n",
    "# Dense layers\n",
    "model.add(Dense(128, activation = 'relu'))\n",
    "model.add(Dense(1,activation= 'sigmoid')) # reason: we do binary classification here\n",
    "model.compile(optimizer='adam', loss='binary_crossentropy', metrics=['acc'])\n",
    "model.summary()"
   ]
  },
  {
   "cell_type": "code",
   "execution_count": 67,
   "metadata": {},
   "outputs": [],
   "source": [
    "y_train = np.asarray(y_train)"
   ]
  },
  {
   "cell_type": "code",
   "execution_count": 68,
   "metadata": {},
   "outputs": [
    {
     "name": "stdout",
     "output_type": "stream",
     "text": [
      "Epoch 1/11\n",
      "622/622 [==============================] - 200s 318ms/step - loss: 0.2250 - acc: 0.9007 - val_loss: 0.1829 - val_acc: 0.9233\n",
      "Epoch 2/11\n",
      "622/622 [==============================] - 196s 315ms/step - loss: 0.0600 - acc: 0.9785 - val_loss: 0.2157 - val_acc: 0.9206\n",
      "Epoch 3/11\n",
      "622/622 [==============================] - 194s 311ms/step - loss: 0.0147 - acc: 0.9950 - val_loss: 0.3650 - val_acc: 0.9113\n",
      "Epoch 4/11\n",
      "622/622 [==============================] - 195s 313ms/step - loss: 0.0092 - acc: 0.9971 - val_loss: 0.3895 - val_acc: 0.9056\n",
      "Epoch 5/11\n",
      "622/622 [==============================] - 200s 322ms/step - loss: 0.0046 - acc: 0.9985 - val_loss: 0.4475 - val_acc: 0.9104\n",
      "Epoch 6/11\n",
      "622/622 [==============================] - 198s 319ms/step - loss: 0.0052 - acc: 0.9981 - val_loss: 0.4694 - val_acc: 0.9115\n",
      "Epoch 7/11\n",
      "622/622 [==============================] - 202s 324ms/step - loss: 0.0044 - acc: 0.9985 - val_loss: 0.4539 - val_acc: 0.9111\n",
      "Epoch 8/11\n",
      "622/622 [==============================] - 199s 320ms/step - loss: 0.0030 - acc: 0.9989 - val_loss: 0.5237 - val_acc: 0.9185\n",
      "Epoch 9/11\n",
      "622/622 [==============================] - 201s 323ms/step - loss: 0.0037 - acc: 0.9986 - val_loss: 0.5094 - val_acc: 0.9142\n",
      "Epoch 10/11\n",
      "622/622 [==============================] - 197s 317ms/step - loss: 0.0031 - acc: 0.9989 - val_loss: 0.6041 - val_acc: 0.9079\n",
      "Epoch 11/11\n",
      "622/622 [==============================] - 197s 317ms/step - loss: 0.0012 - acc: 0.9995 - val_loss: 0.6159 - val_acc: 0.9111\n"
     ]
    },
    {
     "data": {
      "text/plain": [
       "<keras.callbacks.History at 0x27b51d77880>"
      ]
     },
     "execution_count": 68,
     "metadata": {},
     "output_type": "execute_result"
    }
   ],
   "source": [
    "model.fit(padded_train, y_train, batch_size = 64, validation_split = 0.1, epochs = 11)"
   ]
  },
  {
   "cell_type": "code",
   "execution_count": 69,
   "metadata": {},
   "outputs": [
    {
     "name": "stdout",
     "output_type": "stream",
     "text": [
      "592/592 [==============================] - 5s 9ms/step\n"
     ]
    }
   ],
   "source": [
    "# make prediction\n",
    "pred = model.predict(padded_test)"
   ]
  },
  {
   "cell_type": "code",
   "execution_count": 70,
   "metadata": {},
   "outputs": [],
   "source": [
    "prediction = []\n",
    "for i in range(len(pred)):\n",
    "    if pred[i].item() > 0.5:\n",
    "        prediction.append(1)\n",
    "    else:\n",
    "        prediction.append(0)"
   ]
  },
  {
   "cell_type": "code",
   "execution_count": 71,
   "metadata": {},
   "outputs": [
    {
     "name": "stdout",
     "output_type": "stream",
     "text": [
      "Model Accuracy :  0.9071658657654328\n"
     ]
    }
   ],
   "source": [
    "# getting the accuracy\n",
    "from sklearn.metrics import accuracy_score\n",
    "\n",
    "accuracy = accuracy_score(list(y_test), prediction)\n",
    "\n",
    "print(\"Model Accuracy : \", accuracy)"
   ]
  },
  {
   "cell_type": "code",
   "execution_count": 72,
   "metadata": {},
   "outputs": [
    {
     "name": "stdout",
     "output_type": "stream",
     "text": [
      "              precision    recall  f1-score   support\n",
      "\n",
      "           0       0.93      0.90      0.91     10381\n",
      "           1       0.88      0.91      0.90      8556\n",
      "\n",
      "    accuracy                           0.91     18937\n",
      "   macro avg       0.91      0.91      0.91     18937\n",
      "weighted avg       0.91      0.91      0.91     18937\n",
      "\n"
     ]
    },
    {
     "data": {
      "image/png": "[encoded data removed]",
      "text/plain": [
       "<Figure size 600x600 with 2 Axes>"
      ]
     },
     "metadata": {},
     "output_type": "display_data"
    }
   ],
   "source": [
    "# Getting The Confusion Matrix\n",
    "from sklearn.metrics import confusion_matrix, classification_report\n",
    "cm = confusion_matrix(list(y_test), prediction)\n",
    "plt.figure(figsize = (6, 6))\n",
    "sns.heatmap(cm, annot = True)\n",
    "\n",
    "print(classification_report(y_test, prediction))"
   ]
  },
  {
   "cell_type": "code",
   "execution_count": 79,
   "metadata": {
    "colab": {
     "base_uri": "https://localhost:8080/"
    },
    "id": "ZGdWKzsMZLmj",
    "outputId": "f0d893f6-c23b-443e-cb80-e8b3b231e8ae"
   },
   "outputs": [
    {
     "name": "stdout",
     "output_type": "stream",
     "text": [
      "Model: \"sequential_4\"\n",
      "_________________________________________________________________\n",
      " Layer (type)                Output Shape              Param #   \n",
      "=================================================================\n",
      " embedding_4 (Embedding)     (None, 40, 40)            16918720  \n",
      "                                                                 \n",
      " dropout_4 (Dropout)         (None, 40, 40)            0         \n",
      "                                                                 \n",
      " conv1d_2 (Conv1D)           (None, 36, 32)            6432      \n",
      "                                                                 \n",
      " max_pooling1d_2 (MaxPooling  (None, 18, 32)           0         \n",
      " 1D)                                                             \n",
      "                                                                 \n",
      " conv1d_3 (Conv1D)           (None, 14, 32)            5152      \n",
      "                                                                 \n",
      " max_pooling1d_3 (MaxPooling  (None, 7, 32)            0         \n",
      " 1D)                                                             \n",
      "                                                                 \n",
      " lstm_3 (LSTM)               (None, 100)               53200     \n",
      "                                                                 \n",
      " dropout_5 (Dropout)         (None, 100)               0         \n",
      "                                                                 \n",
      " dense_4 (Dense)             (None, 1)                 101       \n",
      "                                                                 \n",
      "=================================================================\n",
      "Total params: 16,983,605\n",
      "Trainable params: 16,983,605\n",
      "Non-trainable params: 0\n",
      "_________________________________________________________________\n",
      "None\n"
     ]
    }
   ],
   "source": [
    "# CNN-LSTM model\n",
    "embedding_vector_features=40\n",
    "model_cnn=Sequential()\n",
    "model_cnn.add(Embedding(total_words, embedding_vector_features, input_length=40))\n",
    "\n",
    "model_cnn.add(Dropout(0.3))\n",
    "\n",
    "model_cnn.add(Conv1D(32, 5, activation='relu'))\n",
    "model_cnn.add(MaxPool1D())\n",
    "\n",
    "model_cnn.add(Conv1D(32, 5, activation='relu'))\n",
    "model_cnn.add(MaxPool1D())\n",
    "\n",
    "model_cnn.add(LSTM(100))\n",
    "model_cnn.add(Dropout(0.3))\n",
    "\n",
    "model_cnn.add(Dense(1,activation='sigmoid'))\n",
    "model_cnn.compile(loss='binary_crossentropy',optimizer='adam',metrics=['accuracy'])\n",
    "print(model_cnn.summary())"
   ]
  },
  {
   "cell_type": "code",
   "execution_count": 80,
   "metadata": {},
   "outputs": [
    {
     "name": "stdout",
     "output_type": "stream",
     "text": [
      "Epoch 1/11\n",
      "622/622 [==============================] - 207s 332ms/step - loss: 9.6996e-04 - acc: 0.9996 - val_loss: 0.8269 - val_acc: 0.8986\n",
      "Epoch 2/11\n",
      "622/622 [==============================] - 217s 349ms/step - loss: 0.0018 - acc: 0.9995 - val_loss: 0.6571 - val_acc: 0.9111\n",
      "Epoch 3/11\n",
      "622/622 [==============================] - 199s 321ms/step - loss: 2.2976e-04 - acc: 0.9999 - val_loss: 0.8305 - val_acc: 0.9059\n",
      "Epoch 4/11\n",
      "622/622 [==============================] - 204s 328ms/step - loss: 7.3482e-06 - acc: 1.0000 - val_loss: 0.7518 - val_acc: 0.9093\n",
      "Epoch 5/11\n",
      "622/622 [==============================] - 201s 324ms/step - loss: 1.2012e-06 - acc: 1.0000 - val_loss: 0.7606 - val_acc: 0.9104\n",
      "Epoch 6/11\n",
      "622/622 [==============================] - 203s 326ms/step - loss: 8.5310e-07 - acc: 1.0000 - val_loss: 0.7697 - val_acc: 0.9102\n",
      "Epoch 7/11\n",
      "622/622 [==============================] - 202s 325ms/step - loss: 6.2605e-07 - acc: 1.0000 - val_loss: 0.7791 - val_acc: 0.9104\n",
      "Epoch 8/11\n",
      "622/622 [==============================] - 206s 331ms/step - loss: 4.6657e-07 - acc: 1.0000 - val_loss: 0.7891 - val_acc: 0.9104\n",
      "Epoch 9/11\n",
      "622/622 [==============================] - 205s 330ms/step - loss: 3.4917e-07 - acc: 1.0000 - val_loss: 0.7998 - val_acc: 0.9106\n",
      "Epoch 10/11\n",
      "622/622 [==============================] - 209s 335ms/step - loss: 2.6180e-07 - acc: 1.0000 - val_loss: 0.8111 - val_acc: 0.9104\n",
      "Epoch 11/11\n",
      "622/622 [==============================] - 208s 334ms/step - loss: 1.9634e-07 - acc: 1.0000 - val_loss: 0.8233 - val_acc: 0.9106\n"
     ]
    },
    {
     "data": {
      "text/plain": [
       "<keras.callbacks.History at 0x27b4ec0e260>"
      ]
     },
     "execution_count": 80,
     "metadata": {},
     "output_type": "execute_result"
    }
   ],
   "source": [
    "model.fit(padded_train, y_train, batch_size = 64, validation_split = 0.1, epochs = 11)"
   ]
  },
  {
   "cell_type": "code",
   "execution_count": 75,
   "metadata": {},
   "outputs": [
    {
     "name": "stdout",
     "output_type": "stream",
     "text": [
      "592/592 [==============================] - 6s 10ms/step\n"
     ]
    }
   ],
   "source": [
    "# make prediction\n",
    "pred = model.predict(padded_test)"
   ]
  },
  {
   "cell_type": "code",
   "execution_count": 76,
   "metadata": {},
   "outputs": [],
   "source": [
    "# Compute prediction\n",
    "prediction = []\n",
    "for i in range(len(pred)):\n",
    "    if pred[i].item() > 0.5:\n",
    "        prediction.append(1)\n",
    "    else:\n",
    "        prediction.append(0)"
   ]
  },
  {
   "cell_type": "code",
   "execution_count": 77,
   "metadata": {},
   "outputs": [
    {
     "name": "stdout",
     "output_type": "stream",
     "text": [
      "Model Accuracy :  0.9035750118815018\n"
     ]
    }
   ],
   "source": [
    "# getting the accuracy\n",
    "from sklearn.metrics import accuracy_score\n",
    "\n",
    "accuracy = accuracy_score(list(y_test), prediction)\n",
    "\n",
    "print(\"Model Accuracy : \", accuracy)"
   ]
  },
  {
   "cell_type": "code",
   "execution_count": 78,
   "metadata": {},
   "outputs": [
    {
     "name": "stdout",
     "output_type": "stream",
     "text": [
      "              precision    recall  f1-score   support\n",
      "\n",
      "           0       0.91      0.92      0.91     10381\n",
      "           1       0.90      0.89      0.89      8556\n",
      "\n",
      "    accuracy                           0.90     18937\n",
      "   macro avg       0.90      0.90      0.90     18937\n",
      "weighted avg       0.90      0.90      0.90     18937\n",
      "\n"
     ]
    },
    {
     "data": {
      "image/png": "[encoded data removed]",
      "text/plain": [
       "<Figure size 600x600 with 2 Axes>"
      ]
     },
     "metadata": {},
     "output_type": "display_data"
    }
   ],
   "source": [
    "# Getting The Confusion Matrix\n",
    "from sklearn.metrics import confusion_matrix, classification_report\n",
    "cm = confusion_matrix(list(y_test), prediction)\n",
    "plt.figure(figsize = (6, 6))\n",
    "sns.heatmap(cm, annot = True)\n",
    "\n",
    "print(classification_report(y_test, prediction))"
   ]
  },
  {
   "cell_type": "code",
   "execution_count": null,
   "metadata": {},
   "outputs": [],
   "source": []
  }
 ],
 "metadata": {
  "accelerator": "TPU",
  "colab": {
   "name": "cnn.ipynb",
   "provenance": []
  },
  "gpuClass": "standard",
  "kernelspec": {
   "display_name": "Python 3 (ipykernel)",
   "language": "python",
   "name": "python3"
  },
  "language_info": {
   "codemirror_mode": {
    "name": "ipython",
    "version": 3
   },
   "file_extension": ".py",
   "mimetype": "text/x-python",
   "name": "python",
   "nbconvert_exporter": "python",
   "pygments_lexer": "ipython3",
   "version": "3.10.5"
  }
 },
 "nbformat": 4,
 "nbformat_minor": 1
}
